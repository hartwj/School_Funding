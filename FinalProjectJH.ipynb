{
 "cells": [
  {
   "cell_type": "code",
   "execution_count": 1,
   "metadata": {},
   "outputs": [],
   "source": [
    "import pandas as pd\n",
    "import numpy as np\n",
    "import matplotlib.pyplot as plt\n",
    "from scipy import stats\n",
    "import statsmodels.formula.api as smf\n",
    "import math\n",
    "%matplotlib inline"
   ]
  },
  {
   "cell_type": "code",
   "execution_count": 2,
   "metadata": {},
   "outputs": [],
   "source": [
    "scores = pd.read_csv(r'C:\\Users\\12156\\JupyterNotebooks\\School_Achievement_2015.csv')\n",
    "funding = pd.read_csv(r'C:\\Users\\12156\\JupyterNotebooks\\School_Funding_2015.csv')"
   ]
  },
  {
   "cell_type": "code",
   "execution_count": 3,
   "metadata": {},
   "outputs": [
    {
     "data": {
      "text/html": [
       "<div>\n",
       "<style scoped>\n",
       "    .dataframe tbody tr th:only-of-type {\n",
       "        vertical-align: middle;\n",
       "    }\n",
       "\n",
       "    .dataframe tbody tr th {\n",
       "        vertical-align: top;\n",
       "    }\n",
       "\n",
       "    .dataframe thead th {\n",
       "        text-align: right;\n",
       "    }\n",
       "</style>\n",
       "<table border=\"1\" class=\"dataframe\">\n",
       "  <thead>\n",
       "    <tr style=\"text-align: right;\">\n",
       "      <th></th>\n",
       "      <th>Jurisdiction</th>\n",
       "      <th>Agency_ID</th>\n",
       "      <th>#_Students</th>\n",
       "      <th>M_4</th>\n",
       "      <th>M_4_AB</th>\n",
       "      <th>M_4_AP</th>\n",
       "      <th>M_8</th>\n",
       "      <th>M_8_AB</th>\n",
       "      <th>M_8_AP</th>\n",
       "      <th>R_4</th>\n",
       "      <th>...</th>\n",
       "      <th>%_IEP</th>\n",
       "      <th>%_Lim_Eng</th>\n",
       "      <th>%_Lunch</th>\n",
       "      <th>%_White</th>\n",
       "      <th>%_Black</th>\n",
       "      <th>%_Hispanic</th>\n",
       "      <th>%_Asian</th>\n",
       "      <th>Pupil_Teacher</th>\n",
       "      <th>#_Schools</th>\n",
       "      <th>#_Charters</th>\n",
       "    </tr>\n",
       "  </thead>\n",
       "  <tbody>\n",
       "    <tr>\n",
       "      <td>0</td>\n",
       "      <td>New York City</td>\n",
       "      <td>3620580</td>\n",
       "      <td>984462</td>\n",
       "      <td>231</td>\n",
       "      <td>73</td>\n",
       "      <td>26</td>\n",
       "      <td>275</td>\n",
       "      <td>62</td>\n",
       "      <td>27</td>\n",
       "      <td>214</td>\n",
       "      <td>...</td>\n",
       "      <td>23.95</td>\n",
       "      <td>14.46</td>\n",
       "      <td>67.56</td>\n",
       "      <td>15.94</td>\n",
       "      <td>23.54</td>\n",
       "      <td>40.92</td>\n",
       "      <td>16.77</td>\n",
       "      <td>13.00</td>\n",
       "      <td>1542</td>\n",
       "      <td>216.0</td>\n",
       "    </tr>\n",
       "    <tr>\n",
       "      <td>1</td>\n",
       "      <td>Los Angeles</td>\n",
       "      <td>622710</td>\n",
       "      <td>633621</td>\n",
       "      <td>224</td>\n",
       "      <td>64</td>\n",
       "      <td>22</td>\n",
       "      <td>263</td>\n",
       "      <td>52</td>\n",
       "      <td>15</td>\n",
       "      <td>204</td>\n",
       "      <td>...</td>\n",
       "      <td>13.53</td>\n",
       "      <td>20.85</td>\n",
       "      <td>78.57</td>\n",
       "      <td>10.07</td>\n",
       "      <td>8.34</td>\n",
       "      <td>73.98</td>\n",
       "      <td>5.59</td>\n",
       "      <td>22.56</td>\n",
       "      <td>1012</td>\n",
       "      <td>279.0</td>\n",
       "    </tr>\n",
       "    <tr>\n",
       "      <td>2</td>\n",
       "      <td>Chicago</td>\n",
       "      <td>1709930</td>\n",
       "      <td>378199</td>\n",
       "      <td>232</td>\n",
       "      <td>71</td>\n",
       "      <td>30</td>\n",
       "      <td>275</td>\n",
       "      <td>62</td>\n",
       "      <td>25</td>\n",
       "      <td>213</td>\n",
       "      <td>...</td>\n",
       "      <td>13.70</td>\n",
       "      <td>15.93</td>\n",
       "      <td>83.48</td>\n",
       "      <td>10.00</td>\n",
       "      <td>37.73</td>\n",
       "      <td>46.63</td>\n",
       "      <td>3.93</td>\n",
       "      <td>19.89</td>\n",
       "      <td>585</td>\n",
       "      <td>43.0</td>\n",
       "    </tr>\n",
       "    <tr>\n",
       "      <td>3</td>\n",
       "      <td>Miami-Dade</td>\n",
       "      <td>1200390</td>\n",
       "      <td>357249</td>\n",
       "      <td>242</td>\n",
       "      <td>86</td>\n",
       "      <td>41</td>\n",
       "      <td>274</td>\n",
       "      <td>64</td>\n",
       "      <td>26</td>\n",
       "      <td>226</td>\n",
       "      <td>...</td>\n",
       "      <td>9.89</td>\n",
       "      <td>20.59</td>\n",
       "      <td>70.82</td>\n",
       "      <td>7.05</td>\n",
       "      <td>21.10</td>\n",
       "      <td>70.08</td>\n",
       "      <td>1.11</td>\n",
       "      <td>17.11</td>\n",
       "      <td>528</td>\n",
       "      <td>127.0</td>\n",
       "    </tr>\n",
       "    <tr>\n",
       "      <td>4</td>\n",
       "      <td>Houston</td>\n",
       "      <td>4823640</td>\n",
       "      <td>216106</td>\n",
       "      <td>239</td>\n",
       "      <td>80</td>\n",
       "      <td>36</td>\n",
       "      <td>276</td>\n",
       "      <td>65</td>\n",
       "      <td>27</td>\n",
       "      <td>210</td>\n",
       "      <td>...</td>\n",
       "      <td>7.15</td>\n",
       "      <td>28.54</td>\n",
       "      <td>76.98</td>\n",
       "      <td>8.75</td>\n",
       "      <td>23.93</td>\n",
       "      <td>62.07</td>\n",
       "      <td>3.86</td>\n",
       "      <td>18.72</td>\n",
       "      <td>287</td>\n",
       "      <td>33.0</td>\n",
       "    </tr>\n",
       "  </tbody>\n",
       "</table>\n",
       "<p>5 rows × 25 columns</p>\n",
       "</div>"
      ],
      "text/plain": [
       "    Jurisdiction  Agency_ID  #_Students  M_4  M_4_AB  M_4_AP  M_8  M_8_AB  \\\n",
       "0  New York City    3620580      984462  231      73      26  275      62   \n",
       "1    Los Angeles     622710      633621  224      64      22  263      52   \n",
       "2        Chicago    1709930      378199  232      71      30  275      62   \n",
       "3     Miami-Dade    1200390      357249  242      86      41  274      64   \n",
       "4        Houston    4823640      216106  239      80      36  276      65   \n",
       "\n",
       "   M_8_AP  R_4  ...  %_IEP  %_Lim_Eng  %_Lunch  %_White  %_Black  %_Hispanic  \\\n",
       "0      27  214  ...  23.95      14.46    67.56    15.94    23.54       40.92   \n",
       "1      15  204  ...  13.53      20.85    78.57    10.07     8.34       73.98   \n",
       "2      25  213  ...  13.70      15.93    83.48    10.00    37.73       46.63   \n",
       "3      26  226  ...   9.89      20.59    70.82     7.05    21.10       70.08   \n",
       "4      27  210  ...   7.15      28.54    76.98     8.75    23.93       62.07   \n",
       "\n",
       "   %_Asian  Pupil_Teacher  #_Schools  #_Charters  \n",
       "0    16.77          13.00       1542       216.0  \n",
       "1     5.59          22.56       1012       279.0  \n",
       "2     3.93          19.89        585        43.0  \n",
       "3     1.11          17.11        528       127.0  \n",
       "4     3.86          18.72        287        33.0  \n",
       "\n",
       "[5 rows x 25 columns]"
      ]
     },
     "execution_count": 3,
     "metadata": {},
     "output_type": "execute_result"
    }
   ],
   "source": [
    "scores.head()"
   ]
  },
  {
   "cell_type": "code",
   "execution_count": 4,
   "metadata": {},
   "outputs": [
    {
     "data": {
      "text/html": [
       "<div>\n",
       "<style scoped>\n",
       "    .dataframe tbody tr th:only-of-type {\n",
       "        vertical-align: middle;\n",
       "    }\n",
       "\n",
       "    .dataframe tbody tr th {\n",
       "        vertical-align: top;\n",
       "    }\n",
       "\n",
       "    .dataframe thead th {\n",
       "        text-align: right;\n",
       "    }\n",
       "</style>\n",
       "<table border=\"1\" class=\"dataframe\">\n",
       "  <thead>\n",
       "    <tr style=\"text-align: right;\">\n",
       "      <th></th>\n",
       "      <th>District</th>\n",
       "      <th>State</th>\n",
       "      <th>Agency_ID</th>\n",
       "      <th>Students</th>\n",
       "      <th>TOTALREV</th>\n",
       "      <th>TLOCREV</th>\n",
       "      <th>TSTREV</th>\n",
       "      <th>TFEDREV</th>\n",
       "      <th>TOTALEXP</th>\n",
       "      <th>TOTALREV_PUPIL</th>\n",
       "      <th>TLOCREV_PUPIL</th>\n",
       "      <th>TSTREV_PUPIL</th>\n",
       "      <th>TFEDREV_PUPIL</th>\n",
       "    </tr>\n",
       "  </thead>\n",
       "  <tbody>\n",
       "    <tr>\n",
       "      <td>0</td>\n",
       "      <td>NYC CHANCELLOR'S OFFICE</td>\n",
       "      <td>New York</td>\n",
       "      <td>3620580.0</td>\n",
       "      <td>981667.0</td>\n",
       "      <td>2.744836e+10</td>\n",
       "      <td>1.514124e+10</td>\n",
       "      <td>1.056801e+10</td>\n",
       "      <td>1.739101e+09</td>\n",
       "      <td>2.962010e+10</td>\n",
       "      <td>27961.0</td>\n",
       "      <td>15424.0</td>\n",
       "      <td>10765.0</td>\n",
       "      <td>1772.0</td>\n",
       "    </tr>\n",
       "    <tr>\n",
       "      <td>1</td>\n",
       "      <td>LOS ANGELES UNIFIED</td>\n",
       "      <td>California</td>\n",
       "      <td>622710.0</td>\n",
       "      <td>639337.0</td>\n",
       "      <td>1.032938e+10</td>\n",
       "      <td>2.506605e+09</td>\n",
       "      <td>6.731375e+09</td>\n",
       "      <td>1.091400e+09</td>\n",
       "      <td>9.686165e+09</td>\n",
       "      <td>16156.0</td>\n",
       "      <td>3921.0</td>\n",
       "      <td>10529.0</td>\n",
       "      <td>1707.0</td>\n",
       "    </tr>\n",
       "    <tr>\n",
       "      <td>2</td>\n",
       "      <td>CITY OF CHICAGO SD 299</td>\n",
       "      <td>Illinois</td>\n",
       "      <td>1709930.0</td>\n",
       "      <td>387311.0</td>\n",
       "      <td>5.272668e+09</td>\n",
       "      <td>2.849460e+09</td>\n",
       "      <td>1.630788e+09</td>\n",
       "      <td>7.924200e+08</td>\n",
       "      <td>5.963039e+09</td>\n",
       "      <td>13614.0</td>\n",
       "      <td>7357.0</td>\n",
       "      <td>4211.0</td>\n",
       "      <td>2046.0</td>\n",
       "    </tr>\n",
       "    <tr>\n",
       "      <td>3</td>\n",
       "      <td>DADE</td>\n",
       "      <td>Florida</td>\n",
       "      <td>1200390.0</td>\n",
       "      <td>357579.0</td>\n",
       "      <td>3.590773e+09</td>\n",
       "      <td>2.058336e+09</td>\n",
       "      <td>1.100918e+09</td>\n",
       "      <td>4.315190e+08</td>\n",
       "      <td>3.654722e+09</td>\n",
       "      <td>10042.0</td>\n",
       "      <td>5756.0</td>\n",
       "      <td>3079.0</td>\n",
       "      <td>1207.0</td>\n",
       "    </tr>\n",
       "    <tr>\n",
       "      <td>4</td>\n",
       "      <td>CLARK COUNTY SCHOOL DISTRICT</td>\n",
       "      <td>Nevada</td>\n",
       "      <td>3200060.0</td>\n",
       "      <td>325990.0</td>\n",
       "      <td>3.220684e+09</td>\n",
       "      <td>1.938496e+09</td>\n",
       "      <td>1.004560e+09</td>\n",
       "      <td>2.776280e+08</td>\n",
       "      <td>3.081183e+09</td>\n",
       "      <td>9880.0</td>\n",
       "      <td>5946.0</td>\n",
       "      <td>3082.0</td>\n",
       "      <td>852.0</td>\n",
       "    </tr>\n",
       "  </tbody>\n",
       "</table>\n",
       "</div>"
      ],
      "text/plain": [
       "                       District       State  Agency_ID  Students  \\\n",
       "0       NYC CHANCELLOR'S OFFICE    New York  3620580.0  981667.0   \n",
       "1           LOS ANGELES UNIFIED  California   622710.0  639337.0   \n",
       "2        CITY OF CHICAGO SD 299    Illinois  1709930.0  387311.0   \n",
       "3                          DADE     Florida  1200390.0  357579.0   \n",
       "4  CLARK COUNTY SCHOOL DISTRICT      Nevada  3200060.0  325990.0   \n",
       "\n",
       "       TOTALREV       TLOCREV        TSTREV       TFEDREV      TOTALEXP  \\\n",
       "0  2.744836e+10  1.514124e+10  1.056801e+10  1.739101e+09  2.962010e+10   \n",
       "1  1.032938e+10  2.506605e+09  6.731375e+09  1.091400e+09  9.686165e+09   \n",
       "2  5.272668e+09  2.849460e+09  1.630788e+09  7.924200e+08  5.963039e+09   \n",
       "3  3.590773e+09  2.058336e+09  1.100918e+09  4.315190e+08  3.654722e+09   \n",
       "4  3.220684e+09  1.938496e+09  1.004560e+09  2.776280e+08  3.081183e+09   \n",
       "\n",
       "   TOTALREV_PUPIL  TLOCREV_PUPIL  TSTREV_PUPIL  TFEDREV_PUPIL  \n",
       "0         27961.0        15424.0       10765.0         1772.0  \n",
       "1         16156.0         3921.0       10529.0         1707.0  \n",
       "2         13614.0         7357.0        4211.0         2046.0  \n",
       "3         10042.0         5756.0        3079.0         1207.0  \n",
       "4          9880.0         5946.0        3082.0          852.0  "
      ]
     },
     "execution_count": 4,
     "metadata": {},
     "output_type": "execute_result"
    }
   ],
   "source": [
    "funding.head()"
   ]
  },
  {
   "cell_type": "markdown",
   "metadata": {},
   "source": [
    "## Part 1: Overview"
   ]
  },
  {
   "cell_type": "markdown",
   "metadata": {},
   "source": [
    "In this section I will run some basic functions to better understand the dataset"
   ]
  },
  {
   "cell_type": "code",
   "execution_count": 5,
   "metadata": {},
   "outputs": [
    {
     "data": {
      "text/plain": [
       "21"
      ]
     },
     "execution_count": 5,
     "metadata": {},
     "output_type": "execute_result"
    }
   ],
   "source": [
    "scores['Jurisdiction'].count()"
   ]
  },
  {
   "cell_type": "code",
   "execution_count": 6,
   "metadata": {},
   "outputs": [
    {
     "data": {
      "text/plain": [
       "18680"
      ]
     },
     "execution_count": 6,
     "metadata": {},
     "output_type": "execute_result"
    }
   ],
   "source": [
    "funding['District'].count()"
   ]
  },
  {
   "cell_type": "code",
   "execution_count": 7,
   "metadata": {},
   "outputs": [
    {
     "data": {
      "text/html": [
       "<div>\n",
       "<style scoped>\n",
       "    .dataframe tbody tr th:only-of-type {\n",
       "        vertical-align: middle;\n",
       "    }\n",
       "\n",
       "    .dataframe tbody tr th {\n",
       "        vertical-align: top;\n",
       "    }\n",
       "\n",
       "    .dataframe thead th {\n",
       "        text-align: right;\n",
       "    }\n",
       "</style>\n",
       "<table border=\"1\" class=\"dataframe\">\n",
       "  <thead>\n",
       "    <tr style=\"text-align: right;\">\n",
       "      <th></th>\n",
       "      <th>Agency_ID</th>\n",
       "      <th>#_Students</th>\n",
       "      <th>M_4</th>\n",
       "      <th>M_4_AB</th>\n",
       "      <th>M_4_AP</th>\n",
       "      <th>M_8</th>\n",
       "      <th>M_8_AB</th>\n",
       "      <th>M_8_AP</th>\n",
       "      <th>R_4</th>\n",
       "      <th>R_4_AB</th>\n",
       "      <th>R_4_AP</th>\n",
       "      <th>R_8</th>\n",
       "      <th>R_8_AB</th>\n",
       "      <th>R_8_AP</th>\n",
       "    </tr>\n",
       "  </thead>\n",
       "  <tbody>\n",
       "    <tr>\n",
       "      <td>count</td>\n",
       "      <td>2.100000e+01</td>\n",
       "      <td>21.000000</td>\n",
       "      <td>21.000000</td>\n",
       "      <td>21.000000</td>\n",
       "      <td>21.000000</td>\n",
       "      <td>21.000000</td>\n",
       "      <td>21.000000</td>\n",
       "      <td>21.000000</td>\n",
       "      <td>21.000000</td>\n",
       "      <td>21.000000</td>\n",
       "      <td>21.000000</td>\n",
       "      <td>21.000000</td>\n",
       "      <td>21.000000</td>\n",
       "      <td>21.000000</td>\n",
       "    </tr>\n",
       "    <tr>\n",
       "      <td>mean</td>\n",
       "      <td>2.504622e+06</td>\n",
       "      <td>197548.904762</td>\n",
       "      <td>231.285714</td>\n",
       "      <td>70.809524</td>\n",
       "      <td>29.285714</td>\n",
       "      <td>269.523810</td>\n",
       "      <td>56.761905</td>\n",
       "      <td>22.380952</td>\n",
       "      <td>211.619048</td>\n",
       "      <td>56.047619</td>\n",
       "      <td>25.380952</td>\n",
       "      <td>253.380952</td>\n",
       "      <td>62.857143</td>\n",
       "      <td>22.619048</td>\n",
       "    </tr>\n",
       "    <tr>\n",
       "      <td>std</td>\n",
       "      <td>1.492557e+06</td>\n",
       "      <td>230319.552248</td>\n",
       "      <td>11.433035</td>\n",
       "      <td>13.883872</td>\n",
       "      <td>12.321294</td>\n",
       "      <td>10.911549</td>\n",
       "      <td>11.687193</td>\n",
       "      <td>8.930152</td>\n",
       "      <td>11.482492</td>\n",
       "      <td>13.124314</td>\n",
       "      <td>10.346382</td>\n",
       "      <td>8.529221</td>\n",
       "      <td>9.456668</td>\n",
       "      <td>8.089970</td>\n",
       "    </tr>\n",
       "    <tr>\n",
       "      <td>min</td>\n",
       "      <td>6.145500e+05</td>\n",
       "      <td>39017.000000</td>\n",
       "      <td>205.000000</td>\n",
       "      <td>36.000000</td>\n",
       "      <td>5.000000</td>\n",
       "      <td>244.000000</td>\n",
       "      <td>27.000000</td>\n",
       "      <td>4.000000</td>\n",
       "      <td>186.000000</td>\n",
       "      <td>27.000000</td>\n",
       "      <td>6.000000</td>\n",
       "      <td>237.000000</td>\n",
       "      <td>44.000000</td>\n",
       "      <td>7.000000</td>\n",
       "    </tr>\n",
       "    <tr>\n",
       "      <td>25%</td>\n",
       "      <td>1.200480e+06</td>\n",
       "      <td>73356.000000</td>\n",
       "      <td>224.000000</td>\n",
       "      <td>64.000000</td>\n",
       "      <td>22.000000</td>\n",
       "      <td>263.000000</td>\n",
       "      <td>51.000000</td>\n",
       "      <td>17.000000</td>\n",
       "      <td>204.000000</td>\n",
       "      <td>47.000000</td>\n",
       "      <td>17.000000</td>\n",
       "      <td>248.000000</td>\n",
       "      <td>58.000000</td>\n",
       "      <td>17.000000</td>\n",
       "    </tr>\n",
       "    <tr>\n",
       "      <td>50%</td>\n",
       "      <td>2.400090e+06</td>\n",
       "      <td>128040.000000</td>\n",
       "      <td>232.000000</td>\n",
       "      <td>73.000000</td>\n",
       "      <td>31.000000</td>\n",
       "      <td>272.000000</td>\n",
       "      <td>61.000000</td>\n",
       "      <td>22.000000</td>\n",
       "      <td>213.000000</td>\n",
       "      <td>56.000000</td>\n",
       "      <td>26.000000</td>\n",
       "      <td>252.000000</td>\n",
       "      <td>62.000000</td>\n",
       "      <td>20.000000</td>\n",
       "    </tr>\n",
       "    <tr>\n",
       "      <td>75%</td>\n",
       "      <td>3.702970e+06</td>\n",
       "      <td>214386.000000</td>\n",
       "      <td>239.000000</td>\n",
       "      <td>82.000000</td>\n",
       "      <td>36.000000</td>\n",
       "      <td>276.000000</td>\n",
       "      <td>64.000000</td>\n",
       "      <td>27.000000</td>\n",
       "      <td>220.000000</td>\n",
       "      <td>65.000000</td>\n",
       "      <td>35.000000</td>\n",
       "      <td>261.000000</td>\n",
       "      <td>70.000000</td>\n",
       "      <td>31.000000</td>\n",
       "    </tr>\n",
       "    <tr>\n",
       "      <td>max</td>\n",
       "      <td>4.823640e+06</td>\n",
       "      <td>984462.000000</td>\n",
       "      <td>248.000000</td>\n",
       "      <td>87.000000</td>\n",
       "      <td>51.000000</td>\n",
       "      <td>286.000000</td>\n",
       "      <td>71.000000</td>\n",
       "      <td>39.000000</td>\n",
       "      <td>230.000000</td>\n",
       "      <td>76.000000</td>\n",
       "      <td>41.000000</td>\n",
       "      <td>265.000000</td>\n",
       "      <td>77.000000</td>\n",
       "      <td>33.000000</td>\n",
       "    </tr>\n",
       "  </tbody>\n",
       "</table>\n",
       "</div>"
      ],
      "text/plain": [
       "          Agency_ID     #_Students         M_4     M_4_AB     M_4_AP  \\\n",
       "count  2.100000e+01      21.000000   21.000000  21.000000  21.000000   \n",
       "mean   2.504622e+06  197548.904762  231.285714  70.809524  29.285714   \n",
       "std    1.492557e+06  230319.552248   11.433035  13.883872  12.321294   \n",
       "min    6.145500e+05   39017.000000  205.000000  36.000000   5.000000   \n",
       "25%    1.200480e+06   73356.000000  224.000000  64.000000  22.000000   \n",
       "50%    2.400090e+06  128040.000000  232.000000  73.000000  31.000000   \n",
       "75%    3.702970e+06  214386.000000  239.000000  82.000000  36.000000   \n",
       "max    4.823640e+06  984462.000000  248.000000  87.000000  51.000000   \n",
       "\n",
       "              M_8     M_8_AB     M_8_AP         R_4     R_4_AB     R_4_AP  \\\n",
       "count   21.000000  21.000000  21.000000   21.000000  21.000000  21.000000   \n",
       "mean   269.523810  56.761905  22.380952  211.619048  56.047619  25.380952   \n",
       "std     10.911549  11.687193   8.930152   11.482492  13.124314  10.346382   \n",
       "min    244.000000  27.000000   4.000000  186.000000  27.000000   6.000000   \n",
       "25%    263.000000  51.000000  17.000000  204.000000  47.000000  17.000000   \n",
       "50%    272.000000  61.000000  22.000000  213.000000  56.000000  26.000000   \n",
       "75%    276.000000  64.000000  27.000000  220.000000  65.000000  35.000000   \n",
       "max    286.000000  71.000000  39.000000  230.000000  76.000000  41.000000   \n",
       "\n",
       "              R_8     R_8_AB     R_8_AP  \n",
       "count   21.000000  21.000000  21.000000  \n",
       "mean   253.380952  62.857143  22.619048  \n",
       "std      8.529221   9.456668   8.089970  \n",
       "min    237.000000  44.000000   7.000000  \n",
       "25%    248.000000  58.000000  17.000000  \n",
       "50%    252.000000  62.000000  20.000000  \n",
       "75%    261.000000  70.000000  31.000000  \n",
       "max    265.000000  77.000000  33.000000  "
      ]
     },
     "execution_count": 7,
     "metadata": {},
     "output_type": "execute_result"
    }
   ],
   "source": [
    "scores.iloc[:,0:15].describe()"
   ]
  },
  {
   "cell_type": "code",
   "execution_count": 8,
   "metadata": {},
   "outputs": [
    {
     "data": {
      "text/html": [
       "<div>\n",
       "<style scoped>\n",
       "    .dataframe tbody tr th:only-of-type {\n",
       "        vertical-align: middle;\n",
       "    }\n",
       "\n",
       "    .dataframe tbody tr th {\n",
       "        vertical-align: top;\n",
       "    }\n",
       "\n",
       "    .dataframe thead th {\n",
       "        text-align: right;\n",
       "    }\n",
       "</style>\n",
       "<table border=\"1\" class=\"dataframe\">\n",
       "  <thead>\n",
       "    <tr style=\"text-align: right;\">\n",
       "      <th></th>\n",
       "      <th>%_IEP</th>\n",
       "      <th>%_Lim_Eng</th>\n",
       "      <th>%_Lunch</th>\n",
       "      <th>%_White</th>\n",
       "      <th>%_Black</th>\n",
       "      <th>%_Hispanic</th>\n",
       "      <th>%_Asian</th>\n",
       "      <th>Pupil_Teacher</th>\n",
       "      <th>#_Schools</th>\n",
       "      <th>#_Charters</th>\n",
       "    </tr>\n",
       "  </thead>\n",
       "  <tbody>\n",
       "    <tr>\n",
       "      <td>count</td>\n",
       "      <td>21.000000</td>\n",
       "      <td>21.000000</td>\n",
       "      <td>18.000000</td>\n",
       "      <td>21.000000</td>\n",
       "      <td>21.000000</td>\n",
       "      <td>21.000000</td>\n",
       "      <td>21.000000</td>\n",
       "      <td>21.000000</td>\n",
       "      <td>21.000000</td>\n",
       "      <td>20.000000</td>\n",
       "    </tr>\n",
       "    <tr>\n",
       "      <td>mean</td>\n",
       "      <td>14.055714</td>\n",
       "      <td>15.962381</td>\n",
       "      <td>73.091111</td>\n",
       "      <td>17.349524</td>\n",
       "      <td>35.700952</td>\n",
       "      <td>38.644762</td>\n",
       "      <td>5.014762</td>\n",
       "      <td>16.511429</td>\n",
       "      <td>313.428571</td>\n",
       "      <td>64.500000</td>\n",
       "    </tr>\n",
       "    <tr>\n",
       "      <td>std</td>\n",
       "      <td>4.442024</td>\n",
       "      <td>9.251882</td>\n",
       "      <td>14.447534</td>\n",
       "      <td>11.123837</td>\n",
       "      <td>24.886969</td>\n",
       "      <td>23.862109</td>\n",
       "      <td>4.374071</td>\n",
       "      <td>3.448800</td>\n",
       "      <td>355.818573</td>\n",
       "      <td>72.209855</td>\n",
       "    </tr>\n",
       "    <tr>\n",
       "      <td>min</td>\n",
       "      <td>7.150000</td>\n",
       "      <td>3.760000</td>\n",
       "      <td>52.030000</td>\n",
       "      <td>2.480000</td>\n",
       "      <td>2.500000</td>\n",
       "      <td>7.050000</td>\n",
       "      <td>1.010000</td>\n",
       "      <td>11.100000</td>\n",
       "      <td>89.000000</td>\n",
       "      <td>3.000000</td>\n",
       "    </tr>\n",
       "    <tr>\n",
       "      <td>25%</td>\n",
       "      <td>10.570000</td>\n",
       "      <td>10.230000</td>\n",
       "      <td>59.995000</td>\n",
       "      <td>9.950000</td>\n",
       "      <td>21.100000</td>\n",
       "      <td>15.730000</td>\n",
       "      <td>1.590000</td>\n",
       "      <td>13.820000</td>\n",
       "      <td>118.000000</td>\n",
       "      <td>19.750000</td>\n",
       "    </tr>\n",
       "    <tr>\n",
       "      <td>50%</td>\n",
       "      <td>13.930000</td>\n",
       "      <td>14.460000</td>\n",
       "      <td>73.720000</td>\n",
       "      <td>14.310000</td>\n",
       "      <td>31.910000</td>\n",
       "      <td>40.920000</td>\n",
       "      <td>3.860000</td>\n",
       "      <td>16.160000</td>\n",
       "      <td>175.000000</td>\n",
       "      <td>38.000000</td>\n",
       "    </tr>\n",
       "    <tr>\n",
       "      <td>75%</td>\n",
       "      <td>16.640000</td>\n",
       "      <td>20.850000</td>\n",
       "      <td>82.252500</td>\n",
       "      <td>22.920000</td>\n",
       "      <td>50.890000</td>\n",
       "      <td>62.070000</td>\n",
       "      <td>6.330000</td>\n",
       "      <td>17.750000</td>\n",
       "      <td>287.000000</td>\n",
       "      <td>69.750000</td>\n",
       "    </tr>\n",
       "    <tr>\n",
       "      <td>max</td>\n",
       "      <td>23.950000</td>\n",
       "      <td>40.430000</td>\n",
       "      <td>100.000000</td>\n",
       "      <td>44.950000</td>\n",
       "      <td>80.730000</td>\n",
       "      <td>73.980000</td>\n",
       "      <td>16.770000</td>\n",
       "      <td>23.170000</td>\n",
       "      <td>1542.000000</td>\n",
       "      <td>279.000000</td>\n",
       "    </tr>\n",
       "  </tbody>\n",
       "</table>\n",
       "</div>"
      ],
      "text/plain": [
       "           %_IEP  %_Lim_Eng     %_Lunch    %_White    %_Black  %_Hispanic  \\\n",
       "count  21.000000  21.000000   18.000000  21.000000  21.000000   21.000000   \n",
       "mean   14.055714  15.962381   73.091111  17.349524  35.700952   38.644762   \n",
       "std     4.442024   9.251882   14.447534  11.123837  24.886969   23.862109   \n",
       "min     7.150000   3.760000   52.030000   2.480000   2.500000    7.050000   \n",
       "25%    10.570000  10.230000   59.995000   9.950000  21.100000   15.730000   \n",
       "50%    13.930000  14.460000   73.720000  14.310000  31.910000   40.920000   \n",
       "75%    16.640000  20.850000   82.252500  22.920000  50.890000   62.070000   \n",
       "max    23.950000  40.430000  100.000000  44.950000  80.730000   73.980000   \n",
       "\n",
       "         %_Asian  Pupil_Teacher    #_Schools  #_Charters  \n",
       "count  21.000000      21.000000    21.000000   20.000000  \n",
       "mean    5.014762      16.511429   313.428571   64.500000  \n",
       "std     4.374071       3.448800   355.818573   72.209855  \n",
       "min     1.010000      11.100000    89.000000    3.000000  \n",
       "25%     1.590000      13.820000   118.000000   19.750000  \n",
       "50%     3.860000      16.160000   175.000000   38.000000  \n",
       "75%     6.330000      17.750000   287.000000   69.750000  \n",
       "max    16.770000      23.170000  1542.000000  279.000000  "
      ]
     },
     "execution_count": 8,
     "metadata": {},
     "output_type": "execute_result"
    }
   ],
   "source": [
    "scores.iloc[:,15:].describe()"
   ]
  },
  {
   "cell_type": "markdown",
   "metadata": {},
   "source": [
    "## Time to Merge, before we evaluate funding"
   ]
  },
  {
   "cell_type": "code",
   "execution_count": 9,
   "metadata": {},
   "outputs": [],
   "source": [
    "combined1 = scores.join(funding.set_index('Agency_ID'), on='Agency_ID')"
   ]
  },
  {
   "cell_type": "code",
   "execution_count": 10,
   "metadata": {},
   "outputs": [
    {
     "data": {
      "text/html": [
       "<div>\n",
       "<style scoped>\n",
       "    .dataframe tbody tr th:only-of-type {\n",
       "        vertical-align: middle;\n",
       "    }\n",
       "\n",
       "    .dataframe tbody tr th {\n",
       "        vertical-align: top;\n",
       "    }\n",
       "\n",
       "    .dataframe thead th {\n",
       "        text-align: right;\n",
       "    }\n",
       "</style>\n",
       "<table border=\"1\" class=\"dataframe\">\n",
       "  <thead>\n",
       "    <tr style=\"text-align: right;\">\n",
       "      <th></th>\n",
       "      <th>Students</th>\n",
       "      <th>TOTALREV</th>\n",
       "      <th>TLOCREV</th>\n",
       "      <th>TSTREV</th>\n",
       "      <th>TFEDREV</th>\n",
       "      <th>TOTALEXP</th>\n",
       "      <th>TOTALREV_PUPIL</th>\n",
       "      <th>TLOCREV_PUPIL</th>\n",
       "      <th>TSTREV_PUPIL</th>\n",
       "      <th>TFEDREV_PUPIL</th>\n",
       "    </tr>\n",
       "  </thead>\n",
       "  <tbody>\n",
       "    <tr>\n",
       "      <td>count</td>\n",
       "      <td>21.000000</td>\n",
       "      <td>2.100000e+01</td>\n",
       "      <td>2.100000e+01</td>\n",
       "      <td>2.100000e+01</td>\n",
       "      <td>2.100000e+01</td>\n",
       "      <td>2.100000e+01</td>\n",
       "      <td>21.000000</td>\n",
       "      <td>21.000000</td>\n",
       "      <td>21.000000</td>\n",
       "      <td>21.000000</td>\n",
       "    </tr>\n",
       "    <tr>\n",
       "      <td>mean</td>\n",
       "      <td>198225.666667</td>\n",
       "      <td>3.420359e+09</td>\n",
       "      <td>1.673743e+09</td>\n",
       "      <td>1.416131e+09</td>\n",
       "      <td>3.304850e+08</td>\n",
       "      <td>3.544943e+09</td>\n",
       "      <td>15971.571429</td>\n",
       "      <td>8072.000000</td>\n",
       "      <td>6103.952381</td>\n",
       "      <td>1795.714286</td>\n",
       "    </tr>\n",
       "    <tr>\n",
       "      <td>std</td>\n",
       "      <td>230633.855863</td>\n",
       "      <td>5.909450e+09</td>\n",
       "      <td>3.178647e+09</td>\n",
       "      <td>2.515212e+09</td>\n",
       "      <td>4.072150e+08</td>\n",
       "      <td>6.325706e+09</td>\n",
       "      <td>5953.968211</td>\n",
       "      <td>5849.174549</td>\n",
       "      <td>3566.355275</td>\n",
       "      <td>785.236088</td>\n",
       "    </tr>\n",
       "    <tr>\n",
       "      <td>min</td>\n",
       "      <td>39410.000000</td>\n",
       "      <td>7.335430e+08</td>\n",
       "      <td>1.237230e+08</td>\n",
       "      <td>0.000000e+00</td>\n",
       "      <td>7.719500e+07</td>\n",
       "      <td>8.074060e+08</td>\n",
       "      <td>9379.000000</td>\n",
       "      <td>1684.000000</td>\n",
       "      <td>0.000000</td>\n",
       "      <td>999.000000</td>\n",
       "    </tr>\n",
       "    <tr>\n",
       "      <td>25%</td>\n",
       "      <td>73460.000000</td>\n",
       "      <td>1.211671e+09</td>\n",
       "      <td>4.695870e+08</td>\n",
       "      <td>3.703310e+08</td>\n",
       "      <td>1.207710e+08</td>\n",
       "      <td>1.263152e+09</td>\n",
       "      <td>11502.000000</td>\n",
       "      <td>3635.000000</td>\n",
       "      <td>3736.000000</td>\n",
       "      <td>1286.000000</td>\n",
       "    </tr>\n",
       "    <tr>\n",
       "      <td>50%</td>\n",
       "      <td>129192.000000</td>\n",
       "      <td>1.420023e+09</td>\n",
       "      <td>9.799740e+08</td>\n",
       "      <td>6.591230e+08</td>\n",
       "      <td>1.559850e+08</td>\n",
       "      <td>1.432818e+09</td>\n",
       "      <td>13839.000000</td>\n",
       "      <td>7022.000000</td>\n",
       "      <td>5219.000000</td>\n",
       "      <td>1601.000000</td>\n",
       "    </tr>\n",
       "    <tr>\n",
       "      <td>75%</td>\n",
       "      <td>211923.000000</td>\n",
       "      <td>2.480131e+09</td>\n",
       "      <td>1.283208e+09</td>\n",
       "      <td>1.057819e+09</td>\n",
       "      <td>2.939580e+08</td>\n",
       "      <td>2.736150e+09</td>\n",
       "      <td>17989.000000</td>\n",
       "      <td>9573.000000</td>\n",
       "      <td>9240.000000</td>\n",
       "      <td>1923.000000</td>\n",
       "    </tr>\n",
       "    <tr>\n",
       "      <td>max</td>\n",
       "      <td>981667.000000</td>\n",
       "      <td>2.744836e+10</td>\n",
       "      <td>1.514124e+10</td>\n",
       "      <td>1.056801e+10</td>\n",
       "      <td>1.739101e+09</td>\n",
       "      <td>2.962010e+10</td>\n",
       "      <td>27961.000000</td>\n",
       "      <td>24305.000000</td>\n",
       "      <td>11600.000000</td>\n",
       "      <td>4160.000000</td>\n",
       "    </tr>\n",
       "  </tbody>\n",
       "</table>\n",
       "</div>"
      ],
      "text/plain": [
       "            Students      TOTALREV       TLOCREV        TSTREV       TFEDREV  \\\n",
       "count      21.000000  2.100000e+01  2.100000e+01  2.100000e+01  2.100000e+01   \n",
       "mean   198225.666667  3.420359e+09  1.673743e+09  1.416131e+09  3.304850e+08   \n",
       "std    230633.855863  5.909450e+09  3.178647e+09  2.515212e+09  4.072150e+08   \n",
       "min     39410.000000  7.335430e+08  1.237230e+08  0.000000e+00  7.719500e+07   \n",
       "25%     73460.000000  1.211671e+09  4.695870e+08  3.703310e+08  1.207710e+08   \n",
       "50%    129192.000000  1.420023e+09  9.799740e+08  6.591230e+08  1.559850e+08   \n",
       "75%    211923.000000  2.480131e+09  1.283208e+09  1.057819e+09  2.939580e+08   \n",
       "max    981667.000000  2.744836e+10  1.514124e+10  1.056801e+10  1.739101e+09   \n",
       "\n",
       "           TOTALEXP  TOTALREV_PUPIL  TLOCREV_PUPIL  TSTREV_PUPIL  \\\n",
       "count  2.100000e+01       21.000000      21.000000     21.000000   \n",
       "mean   3.544943e+09    15971.571429    8072.000000   6103.952381   \n",
       "std    6.325706e+09     5953.968211    5849.174549   3566.355275   \n",
       "min    8.074060e+08     9379.000000    1684.000000      0.000000   \n",
       "25%    1.263152e+09    11502.000000    3635.000000   3736.000000   \n",
       "50%    1.432818e+09    13839.000000    7022.000000   5219.000000   \n",
       "75%    2.736150e+09    17989.000000    9573.000000   9240.000000   \n",
       "max    2.962010e+10    27961.000000   24305.000000  11600.000000   \n",
       "\n",
       "       TFEDREV_PUPIL  \n",
       "count      21.000000  \n",
       "mean     1795.714286  \n",
       "std       785.236088  \n",
       "min       999.000000  \n",
       "25%      1286.000000  \n",
       "50%      1601.000000  \n",
       "75%      1923.000000  \n",
       "max      4160.000000  "
      ]
     },
     "execution_count": 10,
     "metadata": {},
     "output_type": "execute_result"
    }
   ],
   "source": [
    "combined1.iloc[:,27:].describe()"
   ]
  },
  {
   "cell_type": "code",
   "execution_count": 11,
   "metadata": {},
   "outputs": [],
   "source": [
    "#What is the biggest school district by students? How many students\n",
    "def q1_biggest_sd(combined1):\n",
    "    \n",
    "    biggest_sd = combined1.loc[combined1['Students'].idxmax()]\n",
    "    \n",
    "    print({biggest_sd['Jurisdiction']})\n",
    "    \n",
    "    print({biggest_sd['Students']})"
   ]
  },
  {
   "cell_type": "code",
   "execution_count": 12,
   "metadata": {},
   "outputs": [
    {
     "name": "stdout",
     "output_type": "stream",
     "text": [
      "{'New York City'}\n",
      "{981667.0}\n"
     ]
    }
   ],
   "source": [
    "q1_biggest_sd(combined1)"
   ]
  },
  {
   "cell_type": "code",
   "execution_count": 13,
   "metadata": {},
   "outputs": [],
   "source": [
    "#Which school districts have the most and least funding?\n",
    "def q2_most_funding(combined1):\n",
    "    \n",
    "    most_funding = combined1.loc[combined1['TOTALREV'].idxmax()]\n",
    "    \n",
    "    most_funding_pupil = combined1.loc[combined1['TOTALREV_PUPIL'].idxmax()]\n",
    "    \n",
    "    least_funding = combined1.loc[combined1['TOTALREV'].idxmin()]\n",
    "    \n",
    "    least_funding_pupil = combined1.loc[combined1['TOTALREV_PUPIL'].idxmin()]\n",
    "    \n",
    "    print(f\"The most total funding is in {most_funding['Jurisdiction']} at ${most_funding['TOTALREV']}\")\n",
    "      \n",
    "    print(f\"The most funding per pupil is in {most_funding_pupil['Jurisdiction']} at ${most_funding_pupil['TOTALREV_PUPIL']}\")  \n",
    "      \n",
    "    print(f\"The least total funding is in {least_funding['Jurisdiction']} at ${least_funding['TOTALREV']}\")\n",
    "          \n",
    "    print(f\"The least funding per pupil is in {least_funding_pupil['Jurisdiction']} at ${least_funding_pupil['TOTALREV_PUPIL']}\")   "
   ]
  },
  {
   "cell_type": "code",
   "execution_count": 14,
   "metadata": {},
   "outputs": [
    {
     "name": "stdout",
     "output_type": "stream",
     "text": [
      "The most total funding is in New York City at $27448356000.0\n",
      "The most funding per pupil is in New York City at $27961.0\n",
      "The least total funding is in Cleveland at $733543000.0\n",
      "The least funding per pupil is in Duval County (FL) at $9379.0\n"
     ]
    }
   ],
   "source": [
    "q2_most_funding(combined1)"
   ]
  },
  {
   "cell_type": "code",
   "execution_count": 15,
   "metadata": {},
   "outputs": [],
   "source": [
    "#Create a new column to determine budget surplus/ deficit\n",
    "combined1['deficit'] = combined1['TOTALEXP'] - combined1['TOTALREV']"
   ]
  },
  {
   "cell_type": "code",
   "execution_count": 16,
   "metadata": {},
   "outputs": [],
   "source": [
    "#Who has the biggest suprlus and deficit\n",
    "def q3_deficit(combined1):\n",
    "    \n",
    "    small_deficit = combined1.loc[combined1['deficit'].idxmax()]\n",
    "    \n",
    "    big_deficit = combined1.loc[combined1['deficit'].idxmin()]\n",
    "    \n",
    "    print(f\"The largest budget surplus is in {small_deficit['Jurisdiction']} at ${small_deficit['deficit']}\")\n",
    "    \n",
    "    print(f\"The largest budget deficit is in {big_deficit['Jurisdiction']} at ${big_deficit['deficit']}\")"
   ]
  },
  {
   "cell_type": "code",
   "execution_count": 17,
   "metadata": {},
   "outputs": [
    {
     "name": "stdout",
     "output_type": "stream",
     "text": [
      "The largest budget surplus is in New York City at $2171742000.0\n",
      "The largest budget deficit is in Los Angeles at $-643215000.0\n"
     ]
    }
   ],
   "source": [
    "q3_deficit(combined1)"
   ]
  },
  {
   "cell_type": "code",
   "execution_count": 18,
   "metadata": {},
   "outputs": [],
   "source": [
    "#Where are the best and worst scores?\n",
    "def q4_bestscores(combined1): \n",
    "    \n",
    "    best_math4 = combined1.loc[combined1['M_4'].idxmax()]\n",
    "    \n",
    "    best_math8 = combined1.loc[combined1['M_8'].idxmax()]\n",
    "    \n",
    "    best_read4 = combined1.loc[combined1['R_4'].idxmax()]\n",
    "    \n",
    "    best_read8 = combined1.loc[combined1['R_8'].idxmax()]\n",
    "    \n",
    "    print({best_math4['Jurisdiction']})\n",
    "    print({best_math8['Jurisdiction']})\n",
    "    print({best_read4['Jurisdiction']})\n",
    "    print({best_read8['Jurisdiction']})"
   ]
  },
  {
   "cell_type": "code",
   "execution_count": 19,
   "metadata": {},
   "outputs": [
    {
     "name": "stdout",
     "output_type": "stream",
     "text": [
      "{'Charlotte'}\n",
      "{'Charlotte'}\n",
      "{'Hillsborough County (FL)'}\n",
      "{'Miami-Dade'}\n"
     ]
    }
   ],
   "source": [
    "q4_bestscores(combined1)"
   ]
  },
  {
   "cell_type": "code",
   "execution_count": 20,
   "metadata": {},
   "outputs": [],
   "source": [
    "def q4_worstscores(combined1): \n",
    "    \n",
    "    worst_math4 = combined1.loc[combined1['M_4'].idxmin()]\n",
    "    \n",
    "    worst_math8 = combined1.loc[combined1['M_8'].idxmin()]\n",
    "    \n",
    "    worst_read4 = combined1.loc[combined1['R_4'].idxmin()]\n",
    "    \n",
    "    worst_read8 = combined1.loc[combined1['R_8'].idxmin()]\n",
    "    \n",
    "    print({worst_math4['Jurisdiction']})\n",
    "    print({worst_math8['Jurisdiction']})\n",
    "    print({worst_read4['Jurisdiction']})\n",
    "    print({worst_read8['Jurisdiction']})"
   ]
  },
  {
   "cell_type": "code",
   "execution_count": 21,
   "metadata": {},
   "outputs": [
    {
     "name": "stdout",
     "output_type": "stream",
     "text": [
      "{'Detroit'}\n",
      "{'Detroit'}\n",
      "{'Detroit'}\n",
      "{'Detroit'}\n"
     ]
    }
   ],
   "source": [
    "q4_worstscores(combined1)"
   ]
  },
  {
   "cell_type": "code",
   "execution_count": 22,
   "metadata": {},
   "outputs": [],
   "source": [
    "#Creating 3 new columns for average scores, average math scores, and average reading scores"
   ]
  },
  {
   "cell_type": "code",
   "execution_count": 23,
   "metadata": {},
   "outputs": [],
   "source": [
    "combined1['Avg_Score'] = combined1[['M_4','M_8','R_4','R_8']].mean(axis=1)"
   ]
  },
  {
   "cell_type": "code",
   "execution_count": 24,
   "metadata": {},
   "outputs": [],
   "source": [
    "combined1['Avg_Math'] = combined1[['M_4','M_8']].mean(axis=1)"
   ]
  },
  {
   "cell_type": "code",
   "execution_count": 25,
   "metadata": {},
   "outputs": [],
   "source": [
    "combined1['Avg_Read'] = combined1[['R_4','R_8']].mean(axis=1)"
   ]
  },
  {
   "cell_type": "code",
   "execution_count": 26,
   "metadata": {},
   "outputs": [],
   "source": [
    "#running correlations across subjects and grade levels\n",
    "def q5_correlations(combined1): \n",
    "    \n",
    "    math_corr = np.corrcoef(combined1['M_4'], combined1['M_8'])\n",
    "    print(f\"Math Correlations\")\n",
    "    print(math_corr)\n",
    "    print(f\"r={math_corr[0][1]:.2f}\")\n",
    "    \n",
    "    read_corr = np.corrcoef(combined1['R_4'], combined1['R_8'])\n",
    "    print(f\"Reading Correlations\")\n",
    "    print(read_corr)\n",
    "    print(f\"r={read_corr[0][1]:.2f}\")\n",
    "    \n",
    "    mathread_corr = np.corrcoef(combined1['Avg_Math'], combined1['Avg_Read'])\n",
    "    print(f\"Math and Reading Correlations\")\n",
    "    print(mathread_corr)\n",
    "    print(f\"r={mathread_corr[0][1]:.2f}\")  \n",
    "    \n",
    "    fundingscore_corr = np.corrcoef(combined1['Avg_Score'], combined1['TOTALREV_PUPIL'])\n",
    "    print(f\"Total funding per pupil and Average Scores Correlations\")\n",
    "    print(fundingscore_corr)\n",
    "    print(f\"r={fundingscore_corr[0][1]:.2f}\") "
   ]
  },
  {
   "cell_type": "code",
   "execution_count": 27,
   "metadata": {},
   "outputs": [
    {
     "name": "stdout",
     "output_type": "stream",
     "text": [
      "Math Correlations\n",
      "[[1.         0.87367538]\n",
      " [0.87367538 1.        ]]\n",
      "r=0.87\n",
      "Reading Correlations\n",
      "[[1.         0.92000615]\n",
      " [0.92000615 1.        ]]\n",
      "r=0.92\n",
      "Math and Reading Correlations\n",
      "[[1.         0.91218097]\n",
      " [0.91218097 1.        ]]\n",
      "r=0.91\n",
      "Total funding per pupil and Average Scores Correlations\n",
      "[[ 1.       -0.334292]\n",
      " [-0.334292  1.      ]]\n",
      "r=-0.33\n"
     ]
    }
   ],
   "source": [
    "q5_correlations(combined1)"
   ]
  },
  {
   "cell_type": "code",
   "execution_count": 28,
   "metadata": {},
   "outputs": [
    {
     "data": {
      "text/plain": [
       "Text(0.5, 0.98, 'Box Plot - Math Scores')"
      ]
     },
     "execution_count": 28,
     "metadata": {},
     "output_type": "execute_result"
    },
    {
     "data": {
      "image/png": "[encoded data removed]",
      "text/plain": [
       "<Figure size 432x288 with 1 Axes>"
      ]
     },
     "metadata": {
      "needs_background": "light"
     },
     "output_type": "display_data"
    }
   ],
   "source": [
    "plt.boxplot([combined1[\"M_4\"], combined1[\"M_8\"]])\n",
    "plt.xticks([1,2],[\"Math Scores - 4th\", \"Math Scores - 8th\"])\n",
    "plt.suptitle(\"Box Plot - Math Scores\")"
   ]
  },
  {
   "cell_type": "markdown",
   "metadata": {},
   "source": [
    "## Part II: Data Visualization"
   ]
  },
  {
   "cell_type": "markdown",
   "metadata": {},
   "source": [
    "How are the scores distributed?"
   ]
  },
  {
   "cell_type": "code",
   "execution_count": 29,
   "metadata": {},
   "outputs": [
    {
     "data": {
      "text/plain": [
       "<matplotlib.legend.Legend at 0x22f9c219b48>"
      ]
     },
     "execution_count": 29,
     "metadata": {},
     "output_type": "execute_result"
    },
    {
     "data": {
      "image/png": "[encoded data removed]",
      "text/plain": [
       "<Figure size 432x288 with 1 Axes>"
      ]
     },
     "metadata": {
      "needs_background": "light"
     },
     "output_type": "display_data"
    }
   ],
   "source": [
    "plt.scatter(combined1.M_4, combined1.M_4, color = \"orange\")\n",
    "plt.scatter(combined1.M_8, combined1.M_8, color = 'r')\n",
    "plt.suptitle(\"Scatter - Math Scores\")\n",
    "plt.legend([\"Math 4th Grade\", \"Math 8th Grade\"])"
   ]
  },
  {
   "cell_type": "code",
   "execution_count": 30,
   "metadata": {},
   "outputs": [
    {
     "data": {
      "text/plain": [
       "Text(0.5, 0.98, 'Box Plot - Reading Scores')"
      ]
     },
     "execution_count": 30,
     "metadata": {},
     "output_type": "execute_result"
    },
    {
     "data": {
      "image/png": "[encoded data removed]",
      "text/plain": [
       "<Figure size 432x288 with 1 Axes>"
      ]
     },
     "metadata": {
      "needs_background": "light"
     },
     "output_type": "display_data"
    }
   ],
   "source": [
    "plt.boxplot([combined1[\"R_4\"], combined1[\"R_8\"]])\n",
    "plt.xticks([1,2],[\"Read Scores - 4th\", \"Read Scores - 8th\"])\n",
    "plt.suptitle(\"Box Plot - Reading Scores\")"
   ]
  },
  {
   "cell_type": "code",
   "execution_count": 31,
   "metadata": {},
   "outputs": [
    {
     "data": {
      "text/plain": [
       "<matplotlib.legend.Legend at 0x22f9c80d5c8>"
      ]
     },
     "execution_count": 31,
     "metadata": {},
     "output_type": "execute_result"
    },
    {
     "data": {
      "image/png": "[encoded data removed]",
      "text/plain": [
       "<Figure size 432x288 with 1 Axes>"
      ]
     },
     "metadata": {
      "needs_background": "light"
     },
     "output_type": "display_data"
    }
   ],
   "source": [
    "plt.scatter(combined1.R_4, combined1.R_4, color = \"blue\")\n",
    "plt.scatter(combined1.R_8, combined1.R_8, color = \"green\")\n",
    "plt.suptitle(\"Scatter - Readings Scores\")\n",
    "plt.legend([\"Reading 4th Grade\", \"Reading 8th Grade\"])"
   ]
  },
  {
   "cell_type": "markdown",
   "metadata": {},
   "source": [
    "Racial Backgrounds"
   ]
  },
  {
   "cell_type": "code",
   "execution_count": 32,
   "metadata": {},
   "outputs": [],
   "source": [
    "combined1['%_Other'] = 100 - combined1[[\"%_White\",\"%_Black\",\"%_Hispanic\",\"%_Asian\"]].sum(axis=1)"
   ]
  },
  {
   "cell_type": "code",
   "execution_count": 33,
   "metadata": {},
   "outputs": [],
   "source": [
    "plot_race = combined1[[\"%_White\",\"%_Black\",\"%_Hispanic\",\"%_Asian\",\"%_Other\"]].mean()"
   ]
  },
  {
   "cell_type": "code",
   "execution_count": 34,
   "metadata": {},
   "outputs": [
    {
     "data": {
      "image/png": "[encoded data removed]",
      "text/plain": [
       "<Figure size 432x288 with 1 Axes>"
      ]
     },
     "metadata": {},
     "output_type": "display_data"
    }
   ],
   "source": [
    "labels = '% White','% Black','% Hispanic', '% Asian', '% Other'\n",
    "plt.pie(plot_race, labels=labels, autopct='%1.1f%%')\n",
    "plt.suptitle(\"Racial Background Across Districts\")\n",
    "plt.show()"
   ]
  },
  {
   "cell_type": "markdown",
   "metadata": {},
   "source": [
    "Public Schools, Students, Teachers, and Charters"
   ]
  },
  {
   "cell_type": "code",
   "execution_count": 35,
   "metadata": {},
   "outputs": [
    {
     "data": {
      "text/plain": [
       "Text(0.5, 0.98, 'Students and Schools per District')"
      ]
     },
     "execution_count": 35,
     "metadata": {},
     "output_type": "execute_result"
    },
    {
     "data": {
      "image/png": "[encoded data removed]",
      "text/plain": [
       "<Figure size 432x288 with 1 Axes>"
      ]
     },
     "metadata": {
      "needs_background": "light"
     },
     "output_type": "display_data"
    }
   ],
   "source": [
    "plt.plot(combined1.Students, combined1['#_Schools'])\n",
    "plt.xlabel(\"Students in District\")\n",
    "plt.ylabel(\"Schools in District\")\n",
    "plt.suptitle(\"Students and Schools per District\")"
   ]
  },
  {
   "cell_type": "code",
   "execution_count": 36,
   "metadata": {},
   "outputs": [],
   "source": [
    "combined1['StatevCharter'] = combined1['#_Schools']/combined1['#_Charters']"
   ]
  },
  {
   "cell_type": "code",
   "execution_count": 37,
   "metadata": {},
   "outputs": [
    {
     "data": {
      "text/plain": [
       "Text(0.5, 0.98, 'School to Charter Ratio and Standardized Scores')"
      ]
     },
     "execution_count": 37,
     "metadata": {},
     "output_type": "execute_result"
    },
    {
     "data": {
      "image/png": "[encoded data removed]",
      "text/plain": [
       "<Figure size 432x288 with 1 Axes>"
      ]
     },
     "metadata": {
      "needs_background": "light"
     },
     "output_type": "display_data"
    }
   ],
   "source": [
    "plt.scatter(combined1['StatevCharter'], combined1['Avg_Score'])\n",
    "plt.xlabel(\"Public to Charter School Ratio\")\n",
    "plt.ylabel(\"Average Math and Reading Scores\")\n",
    "plt.xlim(0,20)\n",
    "plt.suptitle(\"School to Charter Ratio and Standardized Scores\")\n"
   ]
  },
  {
   "cell_type": "code",
   "execution_count": 38,
   "metadata": {},
   "outputs": [
    {
     "data": {
      "text/plain": [
       "Text(0.5, 0.98, 'Student Teacher Ratio and Standardized Scores')"
      ]
     },
     "execution_count": 38,
     "metadata": {},
     "output_type": "execute_result"
    },
    {
     "data": {
      "image/png": "[encoded data removed]",
      "text/plain": [
       "<Figure size 432x288 with 1 Axes>"
      ]
     },
     "metadata": {
      "needs_background": "light"
     },
     "output_type": "display_data"
    }
   ],
   "source": [
    "plt.scatter(combined1['Pupil_Teacher'], combined1['Avg_Score'])\n",
    "plt.xlabel(\"Student Teacher Ratio\")\n",
    "plt.ylabel(\"Average Math and Reading Scores\")\n",
    "plt.suptitle(\"Student Teacher Ratio and Standardized Scores\")"
   ]
  },
  {
   "cell_type": "markdown",
   "metadata": {},
   "source": [
    "Funding and Standardized Test Scores"
   ]
  },
  {
   "cell_type": "code",
   "execution_count": 39,
   "metadata": {},
   "outputs": [
    {
     "data": {
      "text/plain": [
       "Text(0.5, 0.98, 'School Funding and Standardized Scores')"
      ]
     },
     "execution_count": 39,
     "metadata": {},
     "output_type": "execute_result"
    },
    {
     "data": {
      "image/png": "[encoded data removed]",
      "text/plain": [
       "<Figure size 432x288 with 1 Axes>"
      ]
     },
     "metadata": {
      "needs_background": "light"
     },
     "output_type": "display_data"
    }
   ],
   "source": [
    "plt.scatter(combined1['TOTALREV_PUPIL'], combined1['Avg_Score'], color=\"black\")\n",
    "plt.scatter(combined1['TLOCREV_PUPIL'], combined1['Avg_Score'], color=\"blue\")\n",
    "plt.scatter(combined1['TSTREV_PUPIL'], combined1['Avg_Score'], color=\"red\")\n",
    "plt.scatter(combined1['TFEDREV_PUPIL'], combined1['Avg_Score'], color=\"green\")\n",
    "plt.legend([\"Total Rev\", \"Local Rev\", \"State Rev\", \"Fed Rev\"])\n",
    "plt.xlabel(\"Per Pupil Revenue\")\n",
    "plt.ylabel(\"Average Math and Reading Scores\")\n",
    "plt.suptitle(\"School Funding and Standardized Scores\")"
   ]
  },
  {
   "cell_type": "code",
   "execution_count": 40,
   "metadata": {},
   "outputs": [
    {
     "data": {
      "text/plain": [
       "Text(0.5, 0.98, 'Total Revenue per Pupil Histogram')"
      ]
     },
     "execution_count": 40,
     "metadata": {},
     "output_type": "execute_result"
    },
    {
     "data": {
      "image/png": "[encoded data removed]",
      "text/plain": [
       "<Figure size 432x288 with 1 Axes>"
      ]
     },
     "metadata": {
      "needs_background": "light"
     },
     "output_type": "display_data"
    }
   ],
   "source": [
    "plt.hist(combined1['TOTALREV_PUPIL'],bins=10)\n",
    "plt.suptitle(\"Total Revenue per Pupil Histogram\")"
   ]
  },
  {
   "cell_type": "code",
   "execution_count": 41,
   "metadata": {},
   "outputs": [
    {
     "data": {
      "text/plain": [
       "Text(0.5, 0.98, 'School Funding and Standardized Scores')"
      ]
     },
     "execution_count": 41,
     "metadata": {},
     "output_type": "execute_result"
    },
    {
     "data": {
      "image/png": "[encoded data removed]",
      "text/plain": [
       "<Figure size 432x288 with 1 Axes>"
      ]
     },
     "metadata": {
      "needs_background": "light"
     },
     "output_type": "display_data"
    }
   ],
   "source": [
    "plt.scatter(combined1['TOTALREV_PUPIL'], combined1['Avg_Score'], color=\"black\")\n",
    "plt.legend([\"Total Rev\"])\n",
    "plt.xlabel(\"Total Per Pupil Revenue\")\n",
    "plt.ylabel(\"Average Math and Reading Scores\")\n",
    "plt.suptitle(\"School Funding and Standardized Scores\")"
   ]
  },
  {
   "cell_type": "code",
   "execution_count": 42,
   "metadata": {},
   "outputs": [
    {
     "data": {
      "text/plain": [
       "Text(0.5, 0.98, 'School Funding and Standardized Scores')"
      ]
     },
     "execution_count": 42,
     "metadata": {},
     "output_type": "execute_result"
    },
    {
     "data": {
      "image/png": "[encoded data removed]",
      "text/plain": [
       "<Figure size 432x288 with 1 Axes>"
      ]
     },
     "metadata": {
      "needs_background": "light"
     },
     "output_type": "display_data"
    }
   ],
   "source": [
    "plt.scatter(combined1['TLOCREV_PUPIL'], combined1['Avg_Score'],color=\"blue\")\n",
    "plt.legend([\"Local Rev\"])\n",
    "plt.xlabel(\"Total Local Per Pupil Revenue\")\n",
    "plt.ylabel(\"Average Math and Reading Scores\")\n",
    "plt.suptitle(\"School Funding and Standardized Scores\")"
   ]
  },
  {
   "cell_type": "code",
   "execution_count": 43,
   "metadata": {},
   "outputs": [
    {
     "data": {
      "text/plain": [
       "Text(0.5, 0.98, 'School Funding and Standardized Scores')"
      ]
     },
     "execution_count": 43,
     "metadata": {},
     "output_type": "execute_result"
    },
    {
     "data": {
      "image/png": "[encoded data removed]",
      "text/plain": [
       "<Figure size 432x288 with 1 Axes>"
      ]
     },
     "metadata": {
      "needs_background": "light"
     },
     "output_type": "display_data"
    }
   ],
   "source": [
    "plt.scatter(combined1['TSTREV_PUPIL'], combined1['Avg_Score'], color=\"red\")\n",
    "plt.legend([\"State Rev\"])\n",
    "plt.xlabel(\"Total State Per Pupil Revenue\")\n",
    "plt.ylabel(\"Average Math and Reading Scores\")\n",
    "plt.suptitle(\"School Funding and Standardized Scores\")"
   ]
  },
  {
   "cell_type": "code",
   "execution_count": 44,
   "metadata": {},
   "outputs": [
    {
     "data": {
      "text/plain": [
       "Text(0.5, 0.98, 'School Funding and Standardized Scores')"
      ]
     },
     "execution_count": 44,
     "metadata": {},
     "output_type": "execute_result"
    },
    {
     "data": {
      "image/png": "[encoded data removed]",
      "text/plain": [
       "<Figure size 432x288 with 1 Axes>"
      ]
     },
     "metadata": {
      "needs_background": "light"
     },
     "output_type": "display_data"
    }
   ],
   "source": [
    "plt.scatter(combined1['TFEDREV_PUPIL'], combined1['Avg_Score'], color=\"green\")\n",
    "plt.legend([\"State Rev\"])\n",
    "plt.xlabel(\"Total Federal Per Pupil Revenue\")\n",
    "plt.ylabel(\"Average Math and Reading Scores\")\n",
    "plt.suptitle(\"School Funding and Standardized Scores\")"
   ]
  },
  {
   "cell_type": "markdown",
   "metadata": {},
   "source": [
    "Race and Standardized Test Scores"
   ]
  },
  {
   "cell_type": "code",
   "execution_count": 45,
   "metadata": {},
   "outputs": [
    {
     "data": {
      "text/plain": [
       "Text(0.5, 0.98, 'Racial Background and Scores')"
      ]
     },
     "execution_count": 45,
     "metadata": {},
     "output_type": "execute_result"
    },
    {
     "data": {
      "image/png": "[encoded data removed]",
      "text/plain": [
       "<Figure size 432x288 with 1 Axes>"
      ]
     },
     "metadata": {
      "needs_background": "light"
     },
     "output_type": "display_data"
    }
   ],
   "source": [
    "plt.scatter(combined1['%_White'], combined1['Avg_Score'], color = \"red\")\n",
    "plt.scatter(combined1['%_Hispanic'], combined1['Avg_Score'], color = \"green\")\n",
    "plt.scatter(combined1['%_Black'], combined1['Avg_Score'], color = \"blue\")\n",
    "plt.scatter(combined1['%_Asian'], combined1['Avg_Score'], color = \"black\")\n",
    "plt.xlabel(\"% of Students\")\n",
    "plt.ylabel(\"Average Math and Reading Scores\")\n",
    "plt.legend([\"% White\", \"% Hispanic\", \"% Black\", \"%Asian\"])\n",
    "plt.suptitle(\"Racial Background and Scores\")"
   ]
  },
  {
   "cell_type": "markdown",
   "metadata": {},
   "source": [
    "Other Characteristic and Standardized Test Scores"
   ]
  },
  {
   "cell_type": "code",
   "execution_count": 46,
   "metadata": {},
   "outputs": [
    {
     "data": {
      "text/plain": [
       "Text(0.5, 0.98, 'Other District Characteristics and Average Scores')"
      ]
     },
     "execution_count": 46,
     "metadata": {},
     "output_type": "execute_result"
    },
    {
     "data": {
      "image/png": "[encoded data removed]",
      "text/plain": [
       "<Figure size 432x288 with 1 Axes>"
      ]
     },
     "metadata": {
      "needs_background": "light"
     },
     "output_type": "display_data"
    }
   ],
   "source": [
    "plt.scatter(combined1['%_IEP'], combined1['Avg_Score'], color = \"red\")\n",
    "plt.scatter(combined1['%_Lim_Eng'], combined1['Avg_Score'], color = \"green\")\n",
    "plt.scatter(combined1['%_Lunch'], combined1['Avg_Score'], color = \"blue\")\n",
    "plt.xlabel(\"% of Students\")\n",
    "plt.ylabel(\"Average Math and Reading Scores\")\n",
    "plt.legend([\"% IEP\", \"% Limited English\", \"% Reduced Lunch\"])\n",
    "plt.suptitle(\"Other District Characteristics and Average Scores\")"
   ]
  },
  {
   "cell_type": "code",
   "execution_count": 47,
   "metadata": {},
   "outputs": [
    {
     "data": {
      "text/plain": [
       "(array([2., 2., 3., 2., 5., 2., 1., 1., 0., 3.]),\n",
       " array([11.1  , 12.307, 13.514, 14.721, 15.928, 17.135, 18.342, 19.549,\n",
       "        20.756, 21.963, 23.17 ]),\n",
       " <a list of 10 Patch objects>)"
      ]
     },
     "execution_count": 47,
     "metadata": {},
     "output_type": "execute_result"
    },
    {
     "data": {
      "image/png": "[encoded data removed]",
      "text/plain": [
       "<Figure size 432x288 with 1 Axes>"
      ]
     },
     "metadata": {
      "needs_background": "light"
     },
     "output_type": "display_data"
    }
   ],
   "source": [
    "#Misc Chart\n",
    "plt.hist(combined1['Pupil_Teacher'],bins=10)"
   ]
  },
  {
   "cell_type": "markdown",
   "metadata": {},
   "source": [
    "## Part III: Regression Analysis"
   ]
  },
  {
   "cell_type": "markdown",
   "metadata": {},
   "source": [
    "Wealth Model"
   ]
  },
  {
   "cell_type": "code",
   "execution_count": 48,
   "metadata": {},
   "outputs": [],
   "source": [
    "#Note that smf didn't like some of my variables, so I renamed them along the way"
   ]
  },
  {
   "cell_type": "code",
   "execution_count": 49,
   "metadata": {},
   "outputs": [],
   "source": [
    "combined1['Lunch'] = combined1['%_Lunch']"
   ]
  },
  {
   "cell_type": "code",
   "execution_count": 50,
   "metadata": {},
   "outputs": [],
   "source": [
    "wealth_model = smf.ols(formula = 'Avg_Score ~ TLOCREV_PUPIL + Lunch',data=combined1).fit()"
   ]
  },
  {
   "cell_type": "code",
   "execution_count": 51,
   "metadata": {},
   "outputs": [
    {
     "name": "stderr",
     "output_type": "stream",
     "text": [
      "C:\\Users\\12156\\Anaconda3\\lib\\site-packages\\scipy\\stats\\stats.py:1450: UserWarning: kurtosistest only valid for n>=20 ... continuing anyway, n=18\n",
      "  \"anyway, n=%i\" % int(n))\n"
     ]
    },
    {
     "data": {
      "text/html": [
       "<table class=\"simpletable\">\n",
       "<caption>OLS Regression Results</caption>\n",
       "<tr>\n",
       "  <th>Dep. Variable:</th>        <td>Avg_Score</td>    <th>  R-squared:         </th> <td>   0.552</td>\n",
       "</tr>\n",
       "<tr>\n",
       "  <th>Model:</th>                   <td>OLS</td>       <th>  Adj. R-squared:    </th> <td>   0.493</td>\n",
       "</tr>\n",
       "<tr>\n",
       "  <th>Method:</th>             <td>Least Squares</td>  <th>  F-statistic:       </th> <td>   9.252</td>\n",
       "</tr>\n",
       "<tr>\n",
       "  <th>Date:</th>             <td>Tue, 24 Dec 2019</td> <th>  Prob (F-statistic):</th>  <td>0.00241</td>\n",
       "</tr>\n",
       "<tr>\n",
       "  <th>Time:</th>                 <td>20:16:06</td>     <th>  Log-Likelihood:    </th> <td> -59.575</td>\n",
       "</tr>\n",
       "<tr>\n",
       "  <th>No. Observations:</th>      <td>    18</td>      <th>  AIC:               </th> <td>   125.1</td>\n",
       "</tr>\n",
       "<tr>\n",
       "  <th>Df Residuals:</th>          <td>    15</td>      <th>  BIC:               </th> <td>   127.8</td>\n",
       "</tr>\n",
       "<tr>\n",
       "  <th>Df Model:</th>              <td>     2</td>      <th>                     </th>     <td> </td>   \n",
       "</tr>\n",
       "<tr>\n",
       "  <th>Covariance Type:</th>      <td>nonrobust</td>    <th>                     </th>     <td> </td>   \n",
       "</tr>\n",
       "</table>\n",
       "<table class=\"simpletable\">\n",
       "<tr>\n",
       "        <td></td>           <th>coef</th>     <th>std err</th>      <th>t</th>      <th>P>|t|</th>  <th>[0.025</th>    <th>0.975]</th>  \n",
       "</tr>\n",
       "<tr>\n",
       "  <th>Intercept</th>     <td>  276.9732</td> <td>    9.753</td> <td>   28.400</td> <td> 0.000</td> <td>  256.186</td> <td>  297.760</td>\n",
       "</tr>\n",
       "<tr>\n",
       "  <th>TLOCREV_PUPIL</th> <td>    0.0004</td> <td>    0.000</td> <td>    0.773</td> <td> 0.452</td> <td>   -0.001</td> <td>    0.001</td>\n",
       "</tr>\n",
       "<tr>\n",
       "  <th>Lunch</th>         <td>   -0.5092</td> <td>    0.122</td> <td>   -4.171</td> <td> 0.001</td> <td>   -0.769</td> <td>   -0.249</td>\n",
       "</tr>\n",
       "</table>\n",
       "<table class=\"simpletable\">\n",
       "<tr>\n",
       "  <th>Omnibus:</th>       <td>16.514</td> <th>  Durbin-Watson:     </th> <td>   0.722</td>\n",
       "</tr>\n",
       "<tr>\n",
       "  <th>Prob(Omnibus):</th> <td> 0.000</td> <th>  Jarque-Bera (JB):  </th> <td>  17.263</td>\n",
       "</tr>\n",
       "<tr>\n",
       "  <th>Skew:</th>          <td>-1.561</td> <th>  Prob(JB):          </th> <td>0.000178</td>\n",
       "</tr>\n",
       "<tr>\n",
       "  <th>Kurtosis:</th>      <td> 6.642</td> <th>  Cond. No.          </th> <td>4.34e+04</td>\n",
       "</tr>\n",
       "</table><br/><br/>Warnings:<br/>[1] Standard Errors assume that the covariance matrix of the errors is correctly specified.<br/>[2] The condition number is large, 4.34e+04. This might indicate that there are<br/>strong multicollinearity or other numerical problems."
      ],
      "text/plain": [
       "<class 'statsmodels.iolib.summary.Summary'>\n",
       "\"\"\"\n",
       "                            OLS Regression Results                            \n",
       "==============================================================================\n",
       "Dep. Variable:              Avg_Score   R-squared:                       0.552\n",
       "Model:                            OLS   Adj. R-squared:                  0.493\n",
       "Method:                 Least Squares   F-statistic:                     9.252\n",
       "Date:                Tue, 24 Dec 2019   Prob (F-statistic):            0.00241\n",
       "Time:                        20:16:06   Log-Likelihood:                -59.575\n",
       "No. Observations:                  18   AIC:                             125.1\n",
       "Df Residuals:                      15   BIC:                             127.8\n",
       "Df Model:                           2                                         \n",
       "Covariance Type:            nonrobust                                         \n",
       "=================================================================================\n",
       "                    coef    std err          t      P>|t|      [0.025      0.975]\n",
       "---------------------------------------------------------------------------------\n",
       "Intercept       276.9732      9.753     28.400      0.000     256.186     297.760\n",
       "TLOCREV_PUPIL     0.0004      0.000      0.773      0.452      -0.001       0.001\n",
       "Lunch            -0.5092      0.122     -4.171      0.001      -0.769      -0.249\n",
       "==============================================================================\n",
       "Omnibus:                       16.514   Durbin-Watson:                   0.722\n",
       "Prob(Omnibus):                  0.000   Jarque-Bera (JB):               17.263\n",
       "Skew:                          -1.561   Prob(JB):                     0.000178\n",
       "Kurtosis:                       6.642   Cond. No.                     4.34e+04\n",
       "==============================================================================\n",
       "\n",
       "Warnings:\n",
       "[1] Standard Errors assume that the covariance matrix of the errors is correctly specified.\n",
       "[2] The condition number is large, 4.34e+04. This might indicate that there are\n",
       "strong multicollinearity or other numerical problems.\n",
       "\"\"\""
      ]
     },
     "execution_count": 51,
     "metadata": {},
     "output_type": "execute_result"
    }
   ],
   "source": [
    "wealth_model.summary()"
   ]
  },
  {
   "cell_type": "markdown",
   "metadata": {},
   "source": [
    "Funding Model"
   ]
  },
  {
   "cell_type": "code",
   "execution_count": 52,
   "metadata": {},
   "outputs": [],
   "source": [
    "funding_model = smf.ols(formula = 'Avg_Score ~ TLOCREV_PUPIL + TSTREV_PUPIL + TFEDREV_PUPIL',data=combined1).fit()"
   ]
  },
  {
   "cell_type": "code",
   "execution_count": 53,
   "metadata": {},
   "outputs": [
    {
     "data": {
      "text/html": [
       "<table class=\"simpletable\">\n",
       "<caption>OLS Regression Results</caption>\n",
       "<tr>\n",
       "  <th>Dep. Variable:</th>        <td>Avg_Score</td>    <th>  R-squared:         </th> <td>   0.791</td>\n",
       "</tr>\n",
       "<tr>\n",
       "  <th>Model:</th>                   <td>OLS</td>       <th>  Adj. R-squared:    </th> <td>   0.755</td>\n",
       "</tr>\n",
       "<tr>\n",
       "  <th>Method:</th>             <td>Least Squares</td>  <th>  F-statistic:       </th> <td>   21.51</td>\n",
       "</tr>\n",
       "<tr>\n",
       "  <th>Date:</th>             <td>Tue, 24 Dec 2019</td> <th>  Prob (F-statistic):</th> <td>5.06e-06</td>\n",
       "</tr>\n",
       "<tr>\n",
       "  <th>Time:</th>                 <td>20:16:07</td>     <th>  Log-Likelihood:    </th> <td> -61.353</td>\n",
       "</tr>\n",
       "<tr>\n",
       "  <th>No. Observations:</th>      <td>    21</td>      <th>  AIC:               </th> <td>   130.7</td>\n",
       "</tr>\n",
       "<tr>\n",
       "  <th>Df Residuals:</th>          <td>    17</td>      <th>  BIC:               </th> <td>   134.9</td>\n",
       "</tr>\n",
       "<tr>\n",
       "  <th>Df Model:</th>              <td>     3</td>      <th>                     </th>     <td> </td>   \n",
       "</tr>\n",
       "<tr>\n",
       "  <th>Covariance Type:</th>      <td>nonrobust</td>    <th>                     </th>     <td> </td>   \n",
       "</tr>\n",
       "</table>\n",
       "<table class=\"simpletable\">\n",
       "<tr>\n",
       "        <td></td>           <th>coef</th>     <th>std err</th>      <th>t</th>      <th>P>|t|</th>  <th>[0.025</th>    <th>0.975]</th>  \n",
       "</tr>\n",
       "<tr>\n",
       "  <th>Intercept</th>     <td>  263.0319</td> <td>    3.609</td> <td>   72.874</td> <td> 0.000</td> <td>  255.417</td> <td>  270.647</td>\n",
       "</tr>\n",
       "<tr>\n",
       "  <th>TLOCREV_PUPIL</th> <td>    0.0002</td> <td>    0.000</td> <td>    1.058</td> <td> 0.305</td> <td>   -0.000</td> <td>    0.001</td>\n",
       "</tr>\n",
       "<tr>\n",
       "  <th>TSTREV_PUPIL</th>  <td>   -0.0011</td> <td>    0.000</td> <td>   -3.150</td> <td> 0.006</td> <td>   -0.002</td> <td>   -0.000</td>\n",
       "</tr>\n",
       "<tr>\n",
       "  <th>TFEDREV_PUPIL</th> <td>   -0.0093</td> <td>    0.002</td> <td>   -6.076</td> <td> 0.000</td> <td>   -0.013</td> <td>   -0.006</td>\n",
       "</tr>\n",
       "</table>\n",
       "<table class=\"simpletable\">\n",
       "<tr>\n",
       "  <th>Omnibus:</th>       <td> 0.845</td> <th>  Durbin-Watson:     </th> <td>   2.535</td>\n",
       "</tr>\n",
       "<tr>\n",
       "  <th>Prob(Omnibus):</th> <td> 0.655</td> <th>  Jarque-Bera (JB):  </th> <td>   0.716</td>\n",
       "</tr>\n",
       "<tr>\n",
       "  <th>Skew:</th>          <td>-0.067</td> <th>  Prob(JB):          </th> <td>   0.699</td>\n",
       "</tr>\n",
       "<tr>\n",
       "  <th>Kurtosis:</th>      <td> 2.105</td> <th>  Cond. No.          </th> <td>3.70e+04</td>\n",
       "</tr>\n",
       "</table><br/><br/>Warnings:<br/>[1] Standard Errors assume that the covariance matrix of the errors is correctly specified.<br/>[2] The condition number is large, 3.7e+04. This might indicate that there are<br/>strong multicollinearity or other numerical problems."
      ],
      "text/plain": [
       "<class 'statsmodels.iolib.summary.Summary'>\n",
       "\"\"\"\n",
       "                            OLS Regression Results                            \n",
       "==============================================================================\n",
       "Dep. Variable:              Avg_Score   R-squared:                       0.791\n",
       "Model:                            OLS   Adj. R-squared:                  0.755\n",
       "Method:                 Least Squares   F-statistic:                     21.51\n",
       "Date:                Tue, 24 Dec 2019   Prob (F-statistic):           5.06e-06\n",
       "Time:                        20:16:07   Log-Likelihood:                -61.353\n",
       "No. Observations:                  21   AIC:                             130.7\n",
       "Df Residuals:                      17   BIC:                             134.9\n",
       "Df Model:                           3                                         \n",
       "Covariance Type:            nonrobust                                         \n",
       "=================================================================================\n",
       "                    coef    std err          t      P>|t|      [0.025      0.975]\n",
       "---------------------------------------------------------------------------------\n",
       "Intercept       263.0319      3.609     72.874      0.000     255.417     270.647\n",
       "TLOCREV_PUPIL     0.0002      0.000      1.058      0.305      -0.000       0.001\n",
       "TSTREV_PUPIL     -0.0011      0.000     -3.150      0.006      -0.002      -0.000\n",
       "TFEDREV_PUPIL    -0.0093      0.002     -6.076      0.000      -0.013      -0.006\n",
       "==============================================================================\n",
       "Omnibus:                        0.845   Durbin-Watson:                   2.535\n",
       "Prob(Omnibus):                  0.655   Jarque-Bera (JB):                0.716\n",
       "Skew:                          -0.067   Prob(JB):                        0.699\n",
       "Kurtosis:                       2.105   Cond. No.                     3.70e+04\n",
       "==============================================================================\n",
       "\n",
       "Warnings:\n",
       "[1] Standard Errors assume that the covariance matrix of the errors is correctly specified.\n",
       "[2] The condition number is large, 3.7e+04. This might indicate that there are\n",
       "strong multicollinearity or other numerical problems.\n",
       "\"\"\""
      ]
     },
     "execution_count": 53,
     "metadata": {},
     "output_type": "execute_result"
    }
   ],
   "source": [
    "funding_model.summary()"
   ]
  },
  {
   "cell_type": "markdown",
   "metadata": {},
   "source": [
    "Race Model"
   ]
  },
  {
   "cell_type": "code",
   "execution_count": 54,
   "metadata": {},
   "outputs": [],
   "source": [
    "combined1['White'] = combined1['%_White']\n",
    "combined1['Black'] = combined1['%_Black']\n",
    "combined1['Hispanic'] = combined1['%_Hispanic']\n",
    "combined1['Asian'] = combined1['%_Asian']\n",
    "combined1['Other'] = combined1['%_Other']"
   ]
  },
  {
   "cell_type": "code",
   "execution_count": 55,
   "metadata": {},
   "outputs": [],
   "source": [
    "race_model = smf.ols(formula = 'Avg_Score ~ White + Black + Hispanic + Asian + Other',data=combined1).fit()"
   ]
  },
  {
   "cell_type": "code",
   "execution_count": 56,
   "metadata": {},
   "outputs": [
    {
     "data": {
      "text/html": [
       "<table class=\"simpletable\">\n",
       "<caption>OLS Regression Results</caption>\n",
       "<tr>\n",
       "  <th>Dep. Variable:</th>        <td>Avg_Score</td>    <th>  R-squared:         </th> <td>   0.580</td>\n",
       "</tr>\n",
       "<tr>\n",
       "  <th>Model:</th>                   <td>OLS</td>       <th>  Adj. R-squared:    </th> <td>   0.475</td>\n",
       "</tr>\n",
       "<tr>\n",
       "  <th>Method:</th>             <td>Least Squares</td>  <th>  F-statistic:       </th> <td>   5.531</td>\n",
       "</tr>\n",
       "<tr>\n",
       "  <th>Date:</th>             <td>Tue, 24 Dec 2019</td> <th>  Prob (F-statistic):</th>  <td>0.00543</td>\n",
       "</tr>\n",
       "<tr>\n",
       "  <th>Time:</th>                 <td>20:16:07</td>     <th>  Log-Likelihood:    </th> <td> -68.696</td>\n",
       "</tr>\n",
       "<tr>\n",
       "  <th>No. Observations:</th>      <td>    21</td>      <th>  AIC:               </th> <td>   147.4</td>\n",
       "</tr>\n",
       "<tr>\n",
       "  <th>Df Residuals:</th>          <td>    16</td>      <th>  BIC:               </th> <td>   152.6</td>\n",
       "</tr>\n",
       "<tr>\n",
       "  <th>Df Model:</th>              <td>     4</td>      <th>                     </th>     <td> </td>   \n",
       "</tr>\n",
       "<tr>\n",
       "  <th>Covariance Type:</th>      <td>nonrobust</td>    <th>                     </th>     <td> </td>   \n",
       "</tr>\n",
       "</table>\n",
       "<table class=\"simpletable\">\n",
       "<tr>\n",
       "      <td></td>         <th>coef</th>     <th>std err</th>      <th>t</th>      <th>P>|t|</th>  <th>[0.025</th>    <th>0.975]</th>  \n",
       "</tr>\n",
       "<tr>\n",
       "  <th>Intercept</th> <td>    0.1127</td> <td>    0.007</td> <td>   15.727</td> <td> 0.000</td> <td>    0.098</td> <td>    0.128</td>\n",
       "</tr>\n",
       "<tr>\n",
       "  <th>White</th>     <td>    3.0204</td> <td>    0.165</td> <td>   18.355</td> <td> 0.000</td> <td>    2.672</td> <td>    3.369</td>\n",
       "</tr>\n",
       "<tr>\n",
       "  <th>Black</th>     <td>    2.2269</td> <td>    0.048</td> <td>   46.102</td> <td> 0.000</td> <td>    2.124</td> <td>    2.329</td>\n",
       "</tr>\n",
       "<tr>\n",
       "  <th>Hispanic</th>  <td>    2.4144</td> <td>    0.053</td> <td>   45.268</td> <td> 0.000</td> <td>    2.301</td> <td>    2.527</td>\n",
       "</tr>\n",
       "<tr>\n",
       "  <th>Asian</th>     <td>    2.4609</td> <td>    0.412</td> <td>    5.977</td> <td> 0.000</td> <td>    1.588</td> <td>    3.334</td>\n",
       "</tr>\n",
       "<tr>\n",
       "  <th>Other</th>     <td>    1.1521</td> <td>    0.916</td> <td>    1.257</td> <td> 0.227</td> <td>   -0.790</td> <td>    3.094</td>\n",
       "</tr>\n",
       "</table>\n",
       "<table class=\"simpletable\">\n",
       "<tr>\n",
       "  <th>Omnibus:</th>       <td> 1.263</td> <th>  Durbin-Watson:     </th> <td>   1.644</td>\n",
       "</tr>\n",
       "<tr>\n",
       "  <th>Prob(Omnibus):</th> <td> 0.532</td> <th>  Jarque-Bera (JB):  </th> <td>   1.135</td>\n",
       "</tr>\n",
       "<tr>\n",
       "  <th>Skew:</th>          <td>-0.488</td> <th>  Prob(JB):          </th> <td>   0.567</td>\n",
       "</tr>\n",
       "<tr>\n",
       "  <th>Kurtosis:</th>      <td> 2.411</td> <th>  Cond. No.          </th> <td>2.23e+17</td>\n",
       "</tr>\n",
       "</table><br/><br/>Warnings:<br/>[1] Standard Errors assume that the covariance matrix of the errors is correctly specified.<br/>[2] The smallest eigenvalue is 1.33e-30. This might indicate that there are<br/>strong multicollinearity problems or that the design matrix is singular."
      ],
      "text/plain": [
       "<class 'statsmodels.iolib.summary.Summary'>\n",
       "\"\"\"\n",
       "                            OLS Regression Results                            \n",
       "==============================================================================\n",
       "Dep. Variable:              Avg_Score   R-squared:                       0.580\n",
       "Model:                            OLS   Adj. R-squared:                  0.475\n",
       "Method:                 Least Squares   F-statistic:                     5.531\n",
       "Date:                Tue, 24 Dec 2019   Prob (F-statistic):            0.00543\n",
       "Time:                        20:16:07   Log-Likelihood:                -68.696\n",
       "No. Observations:                  21   AIC:                             147.4\n",
       "Df Residuals:                      16   BIC:                             152.6\n",
       "Df Model:                           4                                         \n",
       "Covariance Type:            nonrobust                                         \n",
       "==============================================================================\n",
       "                 coef    std err          t      P>|t|      [0.025      0.975]\n",
       "------------------------------------------------------------------------------\n",
       "Intercept      0.1127      0.007     15.727      0.000       0.098       0.128\n",
       "White          3.0204      0.165     18.355      0.000       2.672       3.369\n",
       "Black          2.2269      0.048     46.102      0.000       2.124       2.329\n",
       "Hispanic       2.4144      0.053     45.268      0.000       2.301       2.527\n",
       "Asian          2.4609      0.412      5.977      0.000       1.588       3.334\n",
       "Other          1.1521      0.916      1.257      0.227      -0.790       3.094\n",
       "==============================================================================\n",
       "Omnibus:                        1.263   Durbin-Watson:                   1.644\n",
       "Prob(Omnibus):                  0.532   Jarque-Bera (JB):                1.135\n",
       "Skew:                          -0.488   Prob(JB):                        0.567\n",
       "Kurtosis:                       2.411   Cond. No.                     2.23e+17\n",
       "==============================================================================\n",
       "\n",
       "Warnings:\n",
       "[1] Standard Errors assume that the covariance matrix of the errors is correctly specified.\n",
       "[2] The smallest eigenvalue is 1.33e-30. This might indicate that there are\n",
       "strong multicollinearity problems or that the design matrix is singular.\n",
       "\"\"\""
      ]
     },
     "execution_count": 56,
     "metadata": {},
     "output_type": "execute_result"
    }
   ],
   "source": [
    "race_model.summary()"
   ]
  },
  {
   "cell_type": "markdown",
   "metadata": {},
   "source": [
    "Other Characteristics Model"
   ]
  },
  {
   "cell_type": "code",
   "execution_count": 57,
   "metadata": {},
   "outputs": [],
   "source": [
    "combined1['IEP'] = combined1['%_IEP']\n",
    "combined1['Limenglish'] = combined1['%_Lim_Eng']"
   ]
  },
  {
   "cell_type": "code",
   "execution_count": 58,
   "metadata": {},
   "outputs": [],
   "source": [
    "other_model = smf.ols(formula = 'Avg_Score ~ IEP + Limenglish + Pupil_Teacher',data=combined1).fit()"
   ]
  },
  {
   "cell_type": "code",
   "execution_count": 59,
   "metadata": {},
   "outputs": [
    {
     "data": {
      "text/html": [
       "<table class=\"simpletable\">\n",
       "<caption>OLS Regression Results</caption>\n",
       "<tr>\n",
       "  <th>Dep. Variable:</th>        <td>Avg_Score</td>    <th>  R-squared:         </th> <td>   0.187</td>\n",
       "</tr>\n",
       "<tr>\n",
       "  <th>Model:</th>                   <td>OLS</td>       <th>  Adj. R-squared:    </th> <td>   0.044</td>\n",
       "</tr>\n",
       "<tr>\n",
       "  <th>Method:</th>             <td>Least Squares</td>  <th>  F-statistic:       </th> <td>   1.307</td>\n",
       "</tr>\n",
       "<tr>\n",
       "  <th>Date:</th>             <td>Tue, 24 Dec 2019</td> <th>  Prob (F-statistic):</th>  <td> 0.305</td> \n",
       "</tr>\n",
       "<tr>\n",
       "  <th>Time:</th>                 <td>20:16:07</td>     <th>  Log-Likelihood:    </th> <td> -75.634</td>\n",
       "</tr>\n",
       "<tr>\n",
       "  <th>No. Observations:</th>      <td>    21</td>      <th>  AIC:               </th> <td>   159.3</td>\n",
       "</tr>\n",
       "<tr>\n",
       "  <th>Df Residuals:</th>          <td>    17</td>      <th>  BIC:               </th> <td>   163.4</td>\n",
       "</tr>\n",
       "<tr>\n",
       "  <th>Df Model:</th>              <td>     3</td>      <th>                     </th>     <td> </td>   \n",
       "</tr>\n",
       "<tr>\n",
       "  <th>Covariance Type:</th>      <td>nonrobust</td>    <th>                     </th>     <td> </td>   \n",
       "</tr>\n",
       "</table>\n",
       "<table class=\"simpletable\">\n",
       "<tr>\n",
       "        <td></td>           <th>coef</th>     <th>std err</th>      <th>t</th>      <th>P>|t|</th>  <th>[0.025</th>    <th>0.975]</th>  \n",
       "</tr>\n",
       "<tr>\n",
       "  <th>Intercept</th>     <td>  265.7008</td> <td>   15.897</td> <td>   16.714</td> <td> 0.000</td> <td>  232.162</td> <td>  299.240</td>\n",
       "</tr>\n",
       "<tr>\n",
       "  <th>IEP</th>           <td>   -0.8524</td> <td>    0.545</td> <td>   -1.564</td> <td> 0.136</td> <td>   -2.002</td> <td>    0.297</td>\n",
       "</tr>\n",
       "<tr>\n",
       "  <th>Limenglish</th>    <td>    0.1143</td> <td>    0.256</td> <td>    0.447</td> <td> 0.661</td> <td>   -0.426</td> <td>    0.654</td>\n",
       "</tr>\n",
       "<tr>\n",
       "  <th>Pupil_Teacher</th> <td>   -0.8534</td> <td>    0.674</td> <td>   -1.267</td> <td> 0.222</td> <td>   -2.274</td> <td>    0.568</td>\n",
       "</tr>\n",
       "</table>\n",
       "<table class=\"simpletable\">\n",
       "<tr>\n",
       "  <th>Omnibus:</th>       <td> 1.813</td> <th>  Durbin-Watson:     </th> <td>   1.707</td>\n",
       "</tr>\n",
       "<tr>\n",
       "  <th>Prob(Omnibus):</th> <td> 0.404</td> <th>  Jarque-Bera (JB):  </th> <td>   1.278</td>\n",
       "</tr>\n",
       "<tr>\n",
       "  <th>Skew:</th>          <td>-0.369</td> <th>  Prob(JB):          </th> <td>   0.528</td>\n",
       "</tr>\n",
       "<tr>\n",
       "  <th>Kurtosis:</th>      <td> 2.043</td> <th>  Cond. No.          </th> <td>    204.</td>\n",
       "</tr>\n",
       "</table><br/><br/>Warnings:<br/>[1] Standard Errors assume that the covariance matrix of the errors is correctly specified."
      ],
      "text/plain": [
       "<class 'statsmodels.iolib.summary.Summary'>\n",
       "\"\"\"\n",
       "                            OLS Regression Results                            \n",
       "==============================================================================\n",
       "Dep. Variable:              Avg_Score   R-squared:                       0.187\n",
       "Model:                            OLS   Adj. R-squared:                  0.044\n",
       "Method:                 Least Squares   F-statistic:                     1.307\n",
       "Date:                Tue, 24 Dec 2019   Prob (F-statistic):              0.305\n",
       "Time:                        20:16:07   Log-Likelihood:                -75.634\n",
       "No. Observations:                  21   AIC:                             159.3\n",
       "Df Residuals:                      17   BIC:                             163.4\n",
       "Df Model:                           3                                         \n",
       "Covariance Type:            nonrobust                                         \n",
       "=================================================================================\n",
       "                    coef    std err          t      P>|t|      [0.025      0.975]\n",
       "---------------------------------------------------------------------------------\n",
       "Intercept       265.7008     15.897     16.714      0.000     232.162     299.240\n",
       "IEP              -0.8524      0.545     -1.564      0.136      -2.002       0.297\n",
       "Limenglish        0.1143      0.256      0.447      0.661      -0.426       0.654\n",
       "Pupil_Teacher    -0.8534      0.674     -1.267      0.222      -2.274       0.568\n",
       "==============================================================================\n",
       "Omnibus:                        1.813   Durbin-Watson:                   1.707\n",
       "Prob(Omnibus):                  0.404   Jarque-Bera (JB):                1.278\n",
       "Skew:                          -0.369   Prob(JB):                        0.528\n",
       "Kurtosis:                       2.043   Cond. No.                         204.\n",
       "==============================================================================\n",
       "\n",
       "Warnings:\n",
       "[1] Standard Errors assume that the covariance matrix of the errors is correctly specified.\n",
       "\"\"\""
      ]
     },
     "execution_count": 59,
     "metadata": {},
     "output_type": "execute_result"
    }
   ],
   "source": [
    "other_model.summary()"
   ]
  },
  {
   "cell_type": "markdown",
   "metadata": {},
   "source": [
    "Final Model"
   ]
  },
  {
   "cell_type": "code",
   "execution_count": 60,
   "metadata": {},
   "outputs": [],
   "source": [
    "final_model = smf.ols(formula = 'Avg_Score ~ TFEDREV_PUPIL + Lunch',data=combined1).fit()"
   ]
  },
  {
   "cell_type": "code",
   "execution_count": 61,
   "metadata": {},
   "outputs": [
    {
     "data": {
      "text/html": [
       "<table class=\"simpletable\">\n",
       "<caption>OLS Regression Results</caption>\n",
       "<tr>\n",
       "  <th>Dep. Variable:</th>        <td>Avg_Score</td>    <th>  R-squared:         </th> <td>   0.804</td>\n",
       "</tr>\n",
       "<tr>\n",
       "  <th>Model:</th>                   <td>OLS</td>       <th>  Adj. R-squared:    </th> <td>   0.778</td>\n",
       "</tr>\n",
       "<tr>\n",
       "  <th>Method:</th>             <td>Least Squares</td>  <th>  F-statistic:       </th> <td>   30.72</td>\n",
       "</tr>\n",
       "<tr>\n",
       "  <th>Date:</th>             <td>Tue, 24 Dec 2019</td> <th>  Prob (F-statistic):</th> <td>4.96e-06</td>\n",
       "</tr>\n",
       "<tr>\n",
       "  <th>Time:</th>                 <td>20:16:07</td>     <th>  Log-Likelihood:    </th> <td> -52.151</td>\n",
       "</tr>\n",
       "<tr>\n",
       "  <th>No. Observations:</th>      <td>    18</td>      <th>  AIC:               </th> <td>   110.3</td>\n",
       "</tr>\n",
       "<tr>\n",
       "  <th>Df Residuals:</th>          <td>    15</td>      <th>  BIC:               </th> <td>   113.0</td>\n",
       "</tr>\n",
       "<tr>\n",
       "  <th>Df Model:</th>              <td>     2</td>      <th>                     </th>     <td> </td>   \n",
       "</tr>\n",
       "<tr>\n",
       "  <th>Covariance Type:</th>      <td>nonrobust</td>    <th>                     </th>     <td> </td>   \n",
       "</tr>\n",
       "</table>\n",
       "<table class=\"simpletable\">\n",
       "<tr>\n",
       "        <td></td>           <th>coef</th>     <th>std err</th>      <th>t</th>      <th>P>|t|</th>  <th>[0.025</th>    <th>0.975]</th>  \n",
       "</tr>\n",
       "<tr>\n",
       "  <th>Intercept</th>     <td>  281.6313</td> <td>    6.017</td> <td>   46.805</td> <td> 0.000</td> <td>  268.806</td> <td>  294.456</td>\n",
       "</tr>\n",
       "<tr>\n",
       "  <th>TFEDREV_PUPIL</th> <td>   -0.0083</td> <td>    0.002</td> <td>   -4.537</td> <td> 0.000</td> <td>   -0.012</td> <td>   -0.004</td>\n",
       "</tr>\n",
       "<tr>\n",
       "  <th>Lunch</th>         <td>   -0.3526</td> <td>    0.088</td> <td>   -3.995</td> <td> 0.001</td> <td>   -0.541</td> <td>   -0.164</td>\n",
       "</tr>\n",
       "</table>\n",
       "<table class=\"simpletable\">\n",
       "<tr>\n",
       "  <th>Omnibus:</th>       <td> 0.038</td> <th>  Durbin-Watson:     </th> <td>   1.451</td>\n",
       "</tr>\n",
       "<tr>\n",
       "  <th>Prob(Omnibus):</th> <td> 0.981</td> <th>  Jarque-Bera (JB):  </th> <td>   0.132</td>\n",
       "</tr>\n",
       "<tr>\n",
       "  <th>Skew:</th>          <td>-0.072</td> <th>  Prob(JB):          </th> <td>   0.936</td>\n",
       "</tr>\n",
       "<tr>\n",
       "  <th>Kurtosis:</th>      <td> 2.606</td> <th>  Cond. No.          </th> <td>9.58e+03</td>\n",
       "</tr>\n",
       "</table><br/><br/>Warnings:<br/>[1] Standard Errors assume that the covariance matrix of the errors is correctly specified.<br/>[2] The condition number is large, 9.58e+03. This might indicate that there are<br/>strong multicollinearity or other numerical problems."
      ],
      "text/plain": [
       "<class 'statsmodels.iolib.summary.Summary'>\n",
       "\"\"\"\n",
       "                            OLS Regression Results                            \n",
       "==============================================================================\n",
       "Dep. Variable:              Avg_Score   R-squared:                       0.804\n",
       "Model:                            OLS   Adj. R-squared:                  0.778\n",
       "Method:                 Least Squares   F-statistic:                     30.72\n",
       "Date:                Tue, 24 Dec 2019   Prob (F-statistic):           4.96e-06\n",
       "Time:                        20:16:07   Log-Likelihood:                -52.151\n",
       "No. Observations:                  18   AIC:                             110.3\n",
       "Df Residuals:                      15   BIC:                             113.0\n",
       "Df Model:                           2                                         \n",
       "Covariance Type:            nonrobust                                         \n",
       "=================================================================================\n",
       "                    coef    std err          t      P>|t|      [0.025      0.975]\n",
       "---------------------------------------------------------------------------------\n",
       "Intercept       281.6313      6.017     46.805      0.000     268.806     294.456\n",
       "TFEDREV_PUPIL    -0.0083      0.002     -4.537      0.000      -0.012      -0.004\n",
       "Lunch            -0.3526      0.088     -3.995      0.001      -0.541      -0.164\n",
       "==============================================================================\n",
       "Omnibus:                        0.038   Durbin-Watson:                   1.451\n",
       "Prob(Omnibus):                  0.981   Jarque-Bera (JB):                0.132\n",
       "Skew:                          -0.072   Prob(JB):                        0.936\n",
       "Kurtosis:                       2.606   Cond. No.                     9.58e+03\n",
       "==============================================================================\n",
       "\n",
       "Warnings:\n",
       "[1] Standard Errors assume that the covariance matrix of the errors is correctly specified.\n",
       "[2] The condition number is large, 9.58e+03. This might indicate that there are\n",
       "strong multicollinearity or other numerical problems.\n",
       "\"\"\""
      ]
     },
     "execution_count": 61,
     "metadata": {},
     "output_type": "execute_result"
    }
   ],
   "source": [
    "final_model.summary()"
   ]
  },
  {
   "cell_type": "code",
   "execution_count": 62,
   "metadata": {},
   "outputs": [
    {
     "data": {
      "text/plain": [
       "<matplotlib.collections.PathCollection at 0x22f9ce66448>"
      ]
     },
     "execution_count": 62,
     "metadata": {},
     "output_type": "execute_result"
    },
    {
     "data": {
      "image/png": "[encoded data removed]",
      "text/plain": [
       "<Figure size 432x288 with 1 Axes>"
      ]
     },
     "metadata": {
      "needs_background": "light"
     },
     "output_type": "display_data"
    }
   ],
   "source": [
    "#I tried a predictions graph but it doesn't really make sense, so I excluded it. \n",
    "wealth_predictions = wealth_model.predict(combined1)\n",
    "funding_predictions = funding_model.predict(combined1)\n",
    "race_predictions = race_model.predict(combined1)\n",
    "\n",
    "legend =[]\n",
    "\n",
    "legend.append(\"Wealth Model\")\n",
    "plt.scatter(wealth_predictions, combined1['Avg_Score'], s=10, color=\"black\")\n",
    "\n",
    "legend.append(\"Funding Predictions\")\n",
    "plt.scatter(funding_predictions, combined1['Avg_Score'], s=10, color=\"red\")\n",
    "\n",
    "legend.append(\"Race Predictions\")\n",
    "plt.scatter(race_predictions, combined1['Avg_Score'], s=10, color=\"green\")\n"
   ]
  },
  {
   "cell_type": "code",
   "execution_count": null,
   "metadata": {},
   "outputs": [],
   "source": []
  }
 ],
 "metadata": {
  "kernelspec": {
   "display_name": "Python 3",
   "language": "python",
   "name": "python3"
  },
  "language_info": {
   "codemirror_mode": {
    "name": "ipython",
    "version": 3
   },
   "file_extension": ".py",
   "mimetype": "text/x-python",
   "name": "python",
   "nbconvert_exporter": "python",
   "pygments_lexer": "ipython3",
   "version": "3.7.4"
  }
 },
 "nbformat": 4,
 "nbformat_minor": 2
}
